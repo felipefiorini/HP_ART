{
 "cells": [
  {
   "cell_type": "markdown",
   "metadata": {},
   "source": [
    "# 1. Loading and Inspecting Data"
   ]
  },
  {
   "cell_type": "code",
   "execution_count": 2,
   "metadata": {},
   "outputs": [],
   "source": [
    "#Importing packages\n",
    "import numpy as np \n",
    "import pandas as pd\n",
    "\n",
    "import matplotlib.pyplot as plt\n",
    "import seaborn as sns\n",
    "\n",
    "import os\n",
    "\n",
    "import warnings\n",
    "warnings.filterwarnings(\"ignore\")"
   ]
  },
  {
   "cell_type": "code",
   "execution_count": null,
   "metadata": {},
   "outputs": [],
   "source": [
    "## 1. Loading and Inspecting Data\n",
    "\n",
    "#Load dataset\n",
    "train = pd.read_csv(\"../input/house-prices-advanced-regression-techniques/train.csv\")\n",
    "test  = pd.read_csv(\"../input/house-prices-advanced-regression-techniques/test.csv\")\n",
    "\n",
    "#Dataset shape\n",
    "print('Train %s\\nTest %s' % (train.shape, test.shape))\n",
    "\n",
    "#Feature to predict\n",
    "ft_pred = list(set(train.columns) - set(test.columns))"
   ]
  },
  {
   "cell_type": "code",
   "execution_count": null,
   "metadata": {},
   "outputs": [],
   "source": [
    "## 2. Data preprocessing\n",
    "\n",
    "# 2.1 Fill NaN values\n",
    "\n",
    "#save and drop id\n",
    "train_id = train[\"Id\"]\n",
    "train.drop(columns='Id',inplace=True)\n",
    "\n",
    "test_id = test[\"Id\"]\n",
    "test.drop(columns='Id',inplace=True)\n",
    "\n",
    "#select object columns\n",
    "obj_col = train.columns[train.dtypes == 'object'].values\n",
    "\n",
    "#select non object columns\n",
    "num_col = train.columns[train.dtypes != 'object'].values\n",
    "num_col_test = test.columns[test.dtypes != 'object'].values\n",
    "\n",
    "#replace null value in obj columns with None\n",
    "train[obj_col] = train[obj_col].fillna('None')\n",
    "test[obj_col] = test[obj_col].fillna('None')\n",
    "\n",
    "#replace null value in numeric columns with 0\n",
    "train[num_col] = train[num_col].fillna(0)\n",
    "test[num_col_test] = test[num_col_test].fillna(0)\n",
    "\n",
    "train_001 = train\n",
    "test_001 = test\n",
    "\n",
    "# 2.2 Enconding ordinal features\n",
    "\n",
    "import category_encoders as ce\n",
    "\n",
    "#Ordinal features\n",
    "ordinal_features = [\"ExterQual\",\"ExterCond\",\"BsmtQual\",\"BsmtCond\",\"BsmtExposure\", \"BsmtFinType1\",\"BsmtFinType2\",\n",
    "                    \"HeatingQC\",\"Electrical\",\"KitchenQual\", \"FireplaceQu\",\"GarageQual\",\"GarageCond\",\"PoolQC\"]\n",
    "\n",
    "#Split X,y\n",
    "train_002_X = train_001.drop(ft_pred, axis=1)\n",
    "train_002_y = train_001[ft_pred]\n",
    "\n",
    "ce_one_hot = ce.OrdinalEncoder(cols = ordinal_features)\n",
    "\n",
    "train_003 = pd.concat([ce_one_hot.fit_transform(train_002_X), train_002_y], axis=1, sort=False)\n",
    "test_003  = ce_one_hot.transform(test_001)\n",
    "\n",
    "# 2.3 Encdofe nominal features\n",
    "\n",
    "#Nominal features\n",
    "nominal_features = [x for x in obj_col if x not in ordinal_features]\n",
    "\n",
    "#Transfer object to int\n",
    "from sklearn.preprocessing import LabelEncoder\n",
    "labelencoder = LabelEncoder()\n",
    "\n",
    "#for loop nominal feature column\n",
    "for i in train_003[nominal_features].columns:\n",
    "    #fit and transform each column and assign to itself\n",
    "    train_003[i] = labelencoder.fit_transform(train_003[i])\n",
    "    \n",
    "#for loop nominal feature column\n",
    "for i in test_003[nominal_features].columns:\n",
    "    #fit and transform each column and assign to itself\n",
    "    test_003[i] = labelencoder.fit_transform(test_003[i])\n",
    "    \n",
    "#Get dummy variable for nominal features\n",
    "train_005 = pd.get_dummies(train_003,columns=nominal_features,drop_first=True)\n",
    "test_005 = pd.get_dummies(test_003,columns=nominal_features,drop_first=True)\n",
    "\n",
    "\n",
    "#Only for test set\n",
    "#Check if any null values\n",
    "print(train_005.isnull().any().sum())\n",
    "print(test_005.isnull().any().sum())\n",
    "\n",
    "#Get missing columns in the training test\n",
    "missing_cols = set(train_005.drop(columns=\"SalePrice\").columns) - set(test_005.columns)\n",
    "\n",
    "#Add a missing column in test set with default value equal to 0\n",
    "for cols in missing_cols:\n",
    "    test_005[cols] = 0\n",
    "    \n",
    "#Ensure the order of column in the test set is in the same order than in train set\n",
    "test_005 = test_005[train_005.drop(columns=\"SalePrice\").columns]"
   ]
  },
  {
   "cell_type": "code",
   "execution_count": 23,
   "metadata": {},
   "outputs": [
    {
     "output_type": "stream",
     "name": "stdout",
     "text": [
      "Train (1460, 81)\nTest (1459, 80)\n"
     ]
    }
   ],
   "source": [
    "## 3. Feature Engineering\n",
    "\n",
    "#TotalBath\n",
    "train_005['TotalBath'] = (train_005['FullBath'] + train_005['HalfBath'] + train_005['BsmtFullBath'] + train_005['BsmtHalfBath'])\n",
    "test_005['TotalBath']  = (test_005['FullBath']  + test_005['HalfBath']  + test_005['BsmtFullBath']  + test_005['BsmtHalfBath'])\n",
    "\n",
    "#TotalPorch\n",
    "train_005['TotalPorch'] = (train_005['OpenPorchSF'] + train_005['3SsnPorch'] + train_005['EnclosedPorch'] + train_005['ScreenPorch'] + train_005['WoodDeckSF'])\n",
    "test_005['TotalPorch']  = (test_005['OpenPorchSF']  + test_005['3SsnPorch']  + test_005['EnclosedPorch']  + test_005['ScreenPorch']    + test_005['WoodDeckSF'])\n",
    "\n",
    "#Modeling happen during the sale year\n",
    "train_005[\"RecentRemodel\"] = (train_005[\"YearRemodAdd\"] == train_005[\"YrSold\"]) * 1\n",
    "test_005[\"RecentRemodel\"]  = (test_005[\"YearRemodAdd\"]  == test_005[\"YrSold\"]) * 1\n",
    "\n",
    "#House sold in the year it was built\n",
    "train_005[\"NewHouse\"] = (train_005[\"YearBuilt\"] == train_005[\"YrSold\"]) * 1\n",
    "test_005[\"NewHouse\"]  = (test_005[\"YearBuilt\"]  == test_005[\"YrSold\"]) * 1\n",
    "\n",
    "#HasPool\n",
    "train_005['HasPool'] = train_005['PoolArea'].apply(lambda x: 1 if x > 0 else 0)\n",
    "test_005['HasPool']  = test_005['PoolArea'].apply(lambda x: 1 if x > 0 else 0)\n",
    "\n",
    "#HasFireplaces\n",
    "train_005['HasFirePlace'] = train_005['Fireplaces'].apply(lambda x: 1 if x > 0 else 0)\n",
    "test_005['HasFirePlace']  = test_005['Fireplaces'].apply(lambda x: 1 if x > 0 else 0)\n",
    "\n",
    "#Has2ndFloor\n",
    "train_005['Has2ndFloor'] = train_005['2ndFlrSF'].apply(lambda x: 1 if x > 0 else 0)\n",
    "test_005['Has2ndFloor']  = test_005['2ndFlrSF'].apply(lambda x: 1 if x > 0 else 0)\n",
    "\n",
    "#HasGarage\n",
    "train_005['HasGarage'] = train_005['GarageArea'].apply(lambda x: 1 if x > 0 else 0)\n",
    "test_005['HasGarage']  = test_005['GarageArea'].apply(lambda x: 1 if x > 0 else 0)\n",
    "\n",
    "#HasBsmnt\n",
    "train_005['HasBsmnt'] = train_005['TotalBsmtSF'].apply(lambda x: 1 if x > 0 else 0)\n",
    "test_005['HasBsmnt']  = test_005['TotalBsmtSF'].apply(lambda x: 1 if x > 0 else 0)"
   ]
  },
  {
   "cell_type": "code",
   "execution_count": 24,
   "metadata": {},
   "outputs": [
    {
     "output_type": "execute_result",
     "data": {
      "text/plain": [
       "((1095, 222), (365, 222))"
      ]
     },
     "metadata": {},
     "execution_count": 24
    }
   ],
   "source": [
    "## 4. Split train Val\n",
    "\n",
    "#Importing packages\n",
    "from sklearn.model_selection import train_test_split\n",
    "\n",
    "X = train_005.drop(columns=\"SalePrice\")\n",
    "y = train_005[\"SalePrice\"]\n",
    "\n",
    "#Particiona o data set originalmente Train em Train(Treino) e Val(validação)\n",
    "X_train,X_val,y_train,y_val = train_test_split(X,y,test_size=0.25,random_state=0)\n",
    "\n",
    "X_train.shape, X_val.shape"
   ]
  },
  {
   "cell_type": "code",
   "execution_count": 16,
   "metadata": {},
   "outputs": [],
   "source": [
    "## 5. Fit model\n",
    "\n",
    "#Importing Packages\n",
    "import matplotlib.pyplot as plt\n",
    "\n",
    "from xgboost import XGBRegressor\n",
    "from xgboost import XGBRFRegressor\n",
    "from sklearn.model_selection import GridSearchCV\n",
    "\n",
    "from sklearn.metrics import mean_squared_error\n",
    "from sklearn.metrics import mean_absolute_error\n",
    "\n",
    "from sklearn.preprocessing import Imputer\n",
    "\n",
    "import pickle\n",
    "\n",
    "#XGBoost hyper-parameter tuning\n",
    "def hyperParameterTuning(X_train, y_train):\n",
    "    param_tuning = {\n",
    "        'learning_rate': [0.01, 0.1],\n",
    "        'max_depth': [3, 5, 7, 10],\n",
    "        'min_child_weight': [1, 3, 5],\n",
    "        'subsample': [0.5, 0.7],\n",
    "        'colsample_bytree': [0.5, 0.7],\n",
    "        'n_estimators' : [100, 200, 500],\n",
    "        'objective': ['reg:squarederror']\n",
    "    }\n",
    "\n",
    "    xgb_model = XGBRegressor()\n",
    "\n",
    "    gsearch = GridSearchCV(estimator = xgb_model,\n",
    "                           param_grid = param_tuning,                        \n",
    "                           #scoring = 'neg_mean_absolute_error', #MAE\n",
    "                           #scoring = 'neg_mean_squared_error',  #MSE\n",
    "                           cv = 5,\n",
    "                           n_jobs = -1,\n",
    "                           verbose = 1)\n",
    "\n",
    "    gsearch.fit(X_train,y_train)\n",
    "\n",
    "    return gsearch.best_params_\n",
    "\n",
    "#Run only in the first run of the kernel.\n",
    "#hyperParameterTuning(X_train, y_train)"
   ]
  },
  {
   "cell_type": "code",
   "execution_count": 19,
   "metadata": {},
   "outputs": [
    {
     "output_type": "stream",
     "name": "stdout",
     "text": [
      "Wall time: 2.23 s\nMAE:  15689.965646404109\n"
     ]
    }
   ],
   "source": [
    "# Best fit\n",
    "xgb_model = XGBRegressor(\n",
    "        objective = 'reg:squarederror',\n",
    "        colsample_bytree = 0.5,\n",
    "        learning_rate = 0.05,\n",
    "        max_depth = 6,\n",
    "        min_child_weight = 1,\n",
    "        n_estimators = 1000,\n",
    "        subsample = 0.7)\n",
    "\n",
    "%time xgb_model.fit(X_train, y_train, early_stopping_rounds=5, eval_set=[(X_val, y_val)], verbose=False)\n",
    "\n",
    "# xgb_model = pickle.load(open('model/xgb_15689.sav', 'rb'))\n",
    "\n",
    "y_pred_xgb = xgb_model.predict(X_val)\n",
    "\n",
    "# Save model\n",
    "path='model/xgb_15689.sav'\n",
    "pickle.dump(xgb_model, open(path, 'wb'))\n",
    "\n",
    "mae_xgb = mean_absolute_error(y_val, y_pred_xgb)\n",
    "\n",
    "print(\"MAE: \", mae_xgb)"
   ]
  },
  {
   "cell_type": "code",
   "execution_count": 18,
   "metadata": {},
   "outputs": [
    {
     "data": {
      "image/png": "[encoded data removed]",
      "text/plain": [
       "<Figure size 432x288 with 1 Axes>"
      ]
     },
     "metadata": {
      "needs_background": "light"
     },
     "output_type": "display_data"
    }
   ],
   "source": [
    "## 7. Plot Real vs Predict\n",
    "plt.scatter(X_val['GrLivArea'] * 0.092903, y_val,          color='blue', label='Real',    alpha=0.5)\n",
    "plt.scatter(X_val['GrLivArea'] * 0.092903, y_pred_xgb,  color='red' , label='Predict', alpha=0.5)\n",
    "plt.title(\"Real vs Predict\")\n",
    "plt.legend(loc='best')\n",
    "plt.show()"
   ]
  },
  {
   "cell_type": "markdown",
   "metadata": {},
   "source": [
    "# 8. Predic Test & Submission"
   ]
  },
  {
   "cell_type": "code",
   "execution_count": 19,
   "metadata": {},
   "outputs": [],
   "source": [
    "X_test = test_005\n",
    "\n",
    "# Use the model to make predictions\n",
    "y_pred_test = xgb_model.predict(X_test)\n",
    "\n",
    "submission = pd.DataFrame({'Id':test_id,'SalePrice':y_pred_test})\n",
    "\n",
    "# Save results\n",
    "submission.to_csv(\"submission.csv\",index=False)"
   ]
  }
 ],
 "metadata": {
  "kernelspec": {
   "display_name": "Python 3",
   "language": "python",
   "name": "python3"
  },
  "language_info": {
   "codemirror_mode": {
    "name": "ipython",
    "version": 3
   },
   "file_extension": ".py",
   "mimetype": "text/x-python",
   "name": "python",
   "nbconvert_exporter": "python",
   "pygments_lexer": "ipython3",
   "version": "3.7.4-final"
  }
 },
 "nbformat": 4,
 "nbformat_minor": 4
}