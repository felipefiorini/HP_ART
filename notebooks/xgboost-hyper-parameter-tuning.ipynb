{
 "cells": [
  {
   "cell_type": "markdown",
   "execution_count": null,
   "metadata": {},
   "source": [
    "# XGBoost & Hyperparameter tuning\n",
    "\n",
    "\n",
    "* [1. Loading and Inspecting Data](#2.-Loading-and-Inspecting-Data)\n",
    "* [2. Data preprocessing](#3.-Data-preprocessing)\n",
    "* [2.1 Fill NaN values](#3.1-Fill-NaN-values)\n",
    "* [2.2 Encoding ordinal features](#3.2-Encoding-ordinal-features)\n",
    "* [2.3 Encode nominal features](#3.3-Encode-nominal-features)\n",
    "* [3. Feature Engineering](#4.-Feature-Engineering)\n",
    "* [4. Normalize](#5.-Normalize)\n",
    "* [5. Fit Models](#6.-Fit-Models)\n",
    "* [5.1 Base line model](#6.1-Base-line-model)\n",
    "* [5.2 XGBoost](#6.2-XGBoost)\n",
    "    * [Parameters](#Parameters)\n",
    "    * [Tuning the hyper-parameters](#Tuning-the-hyper-parameters)\n",
    "    * [Best Fit](#Best-Fit)\n",
    "* [6. Compare Models](#7.-Compare-Models)\n",
    "* [7. Plot Results](#8.-Plot-Results)\n",
    "* [8. Predic Test & Submission](#9.-Predic-Test-&-Submission)\n",
    "\n",
    "\n",
    "\n",
    "\n",
    "\n",
    "<br>Reference:</br>\n",
    "<br>https://scikit-learn.org/stable/modules/generated/sklearn.ensemble.GradientBoostingRegressor.html\n",
    "<br>https://scikit-learn.org/stable/modules/generated/sklearn.model_selection.GridSearchCV.html\n",
    "<br>https://scikit-learn.org/stable/modules/grid_search.html#multimetric-grid-search\n",
    "<br>https://scikit-learn.org/stable/modules/model_evaluation.html#scoring-parameter"
   ]
  },
  {
   "cell_type": "markdown",
   "execution_count": null,
   "metadata": {},
   "source": [
    "# 1. Loading and Inspecting Data"
   ]
  },
  {
   "cell_type": "code",
   "execution_count": 1,
   "metadata": {},
   "outputs": [],
   "source": [
    "#Importing packages\n",
    "import numpy as np \n",
    "import pandas as pd\n",
    "\n",
    "import matplotlib.pyplot as plt\n",
    "import seaborn as sns\n",
    "\n",
    "import os\n",
    "\n",
    "import warnings\n",
    "warnings.filterwarnings(\"ignore\")"
   ]
  },
  {
   "cell_type": "code",
   "execution_count": 2,
   "metadata": {},
   "outputs": [],
   "source": [
    "#Load dataset\n",
    "train = pd.read_csv(\"../input/train.csv\")\n",
    "test  = pd.read_csv(\"../input/test.csv\")"
   ]
  },
  {
   "cell_type": "code",
   "execution_count": 3,
   "metadata": {},
   "outputs": [
    {
     "name": "stdout",
     "output_type": "stream",
     "text": [
      "Train (1460, 81)\n",
      "Test (1459, 80)\n"
     ]
    }
   ],
   "source": [
    "#Dataset shape\n",
    "print('Train %s\\nTest %s' % (train.shape, test.shape))"
   ]
  },
  {
   "cell_type": "code",
   "execution_count": 4,
   "metadata": {},
   "outputs": [
    {
     "data": {
      "text/plain": [
       "['SalePrice']"
      ]
     },
     "execution_count": 4,
     "metadata": {},
     "output_type": "execute_result"
    }
   ],
   "source": [
    "#Feature to predict\n",
    "ft_pred = list(set(train.columns) - set(test.columns))\n",
    "ft_pred"
   ]
  },
  {
   "cell_type": "code",
   "execution_count": 5,
   "metadata": {},
   "outputs": [
    {
     "data": {
      "text/html": [
       "<div>\n",
       "<style scoped>\n",
       "    .dataframe tbody tr th:only-of-type {\n",
       "        vertical-align: middle;\n",
       "    }\n",
       "\n",
       "    .dataframe tbody tr th {\n",
       "        vertical-align: top;\n",
       "    }\n",
       "\n",
       "    .dataframe thead th {\n",
       "        text-align: right;\n",
       "    }\n",
       "</style>\n",
       "<table border=\"1\" class=\"dataframe\">\n",
       "  <thead>\n",
       "    <tr style=\"text-align: right;\">\n",
       "      <th></th>\n",
       "      <th>SalePrice</th>\n",
       "    </tr>\n",
       "  </thead>\n",
       "  <tbody>\n",
       "    <tr>\n",
       "      <th>count</th>\n",
       "      <td>1460.000000</td>\n",
       "    </tr>\n",
       "    <tr>\n",
       "      <th>mean</th>\n",
       "      <td>180921.195890</td>\n",
       "    </tr>\n",
       "    <tr>\n",
       "      <th>std</th>\n",
       "      <td>79442.502883</td>\n",
       "    </tr>\n",
       "    <tr>\n",
       "      <th>min</th>\n",
       "      <td>34900.000000</td>\n",
       "    </tr>\n",
       "    <tr>\n",
       "      <th>25%</th>\n",
       "      <td>129975.000000</td>\n",
       "    </tr>\n",
       "    <tr>\n",
       "      <th>50%</th>\n",
       "      <td>163000.000000</td>\n",
       "    </tr>\n",
       "    <tr>\n",
       "      <th>75%</th>\n",
       "      <td>214000.000000</td>\n",
       "    </tr>\n",
       "    <tr>\n",
       "      <th>max</th>\n",
       "      <td>755000.000000</td>\n",
       "    </tr>\n",
       "  </tbody>\n",
       "</table>\n",
       "</div>"
      ],
      "text/plain": [
       "           SalePrice\n",
       "count    1460.000000\n",
       "mean   180921.195890\n",
       "std     79442.502883\n",
       "min     34900.000000\n",
       "25%    129975.000000\n",
       "50%    163000.000000\n",
       "75%    214000.000000\n",
       "max    755000.000000"
      ]
     },
     "execution_count": 5,
     "metadata": {},
     "output_type": "execute_result"
    }
   ],
   "source": [
    "train[ft_pred].describe()"
   ]
  },
  {
   "cell_type": "code",
   "execution_count": 6,
   "metadata": {},
   "outputs": [
    {
     "data": {
      "image/png": "[encoded data removed]",
      "text/plain": [
       "<Figure size 432x288 with 1 Axes>"
      ]
     },
     "metadata": {
      "needs_background": "light"
     },
     "output_type": "display_data"
    }
   ],
   "source": [
    "#Plot GrLivArea vs SalePrice\n",
    "plt.scatter(train['GrLivArea'], train['SalePrice'], color='blue', alpha=0.5)\n",
    "plt.title(\"LotArea vs SalePrice\")\n",
    "plt.legend(loc='best')\n",
    "plt.xlabel(\"GrLivArea\")\n",
    "plt.ylabel(\"SalePrice\")\n",
    "plt.show()"
   ]
  },
  {
   "cell_type": "markdown",
   "execution_count": null,
   "metadata": {},
   "source": [
    "# 2. Data preprocessing\n",
    "\n",
    "<ul>\n",
    "    <li>First I'll replace the numeric missing values (NaN's) with 0 and non numeric with none.\n",
    "    <li>Create Dummy variables for the categorical features.\n",
    "    <li>transform the skewed numeric features by taking log(feature + 1) - this will make the features more normal.\n",
    "</ul>"
   ]
  },
  {
   "cell_type": "markdown",
   "execution_count": null,
   "metadata": {},
   "source": [
    "## 2.1 Fill NaN values"
   ]
  },
  {
   "cell_type": "code",
   "execution_count": 7,
   "metadata": {},
   "outputs": [],
   "source": [
    "#save and drop id\n",
    "train_id = train[\"Id\"]\n",
    "train.drop(columns='Id',inplace=True)\n",
    "\n",
    "test_id = test[\"Id\"]\n",
    "test.drop(columns='Id',inplace=True)\n",
    "\n",
    "#select object columns\n",
    "obj_col = train.columns[train.dtypes == 'object'].values\n",
    "\n",
    "#select non object columns\n",
    "num_col = train.columns[train.dtypes != 'object'].values\n",
    "num_col_test = test.columns[test.dtypes != 'object'].values\n",
    "\n",
    "#replace null value in obj columns with None\n",
    "train[obj_col] = train[obj_col].fillna('None')\n",
    "test[obj_col] = test[obj_col].fillna('None')\n",
    "\n",
    "#replace null value in numeric columns with 0\n",
    "train[num_col] = train[num_col].fillna(0)\n",
    "test[num_col_test] = test[num_col_test].fillna(0)\n",
    "\n",
    "train_001 = train\n",
    "test_001 = test"
   ]
  },
  {
   "cell_type": "markdown",
   "execution_count": null,
   "metadata": {},
   "source": [
    "## 2.2 Encoding ordinal features"
   ]
  },
  {
   "cell_type": "code",
   "execution_count": 8,
   "metadata": {},
   "outputs": [],
   "source": [
    "import category_encoders as ce\n",
    "\n",
    "#Ordinal features\n",
    "ordinal_features = [\"ExterQual\",\"ExterCond\",\"BsmtQual\",\"BsmtCond\",\"BsmtExposure\", \"BsmtFinType1\",\"BsmtFinType2\",\n",
    "                    \"HeatingQC\",\"Electrical\",\"KitchenQual\", \"FireplaceQu\",\"GarageQual\",\"GarageCond\",\"PoolQC\"]\n",
    "\n",
    "#Split X,y\n",
    "train_002_X = train_001.drop(ft_pred, axis=1)\n",
    "train_002_y = train_001[ft_pred]\n",
    "\n",
    "ce_one_hot = ce.OrdinalEncoder(cols = ordinal_features)\n",
    "\n",
    "train_003 = pd.concat([ce_one_hot.fit_transform(train_002_X), train_002_y], axis=1, sort=False)\n",
    "test_003  = ce_one_hot.transform(test_001)\n"
   ]
  },
  {
   "cell_type": "markdown",
   "execution_count": null,
   "metadata": {},
   "source": [
    "## 2.3 Encode nominal features"
   ]
  },
  {
   "cell_type": "code",
   "execution_count": 9,
   "metadata": {},
   "outputs": [],
   "source": [
    "#Nominal features\n",
    "nominal_features = [x for x in obj_col if x not in ordinal_features]\n",
    "\n",
    "#Transfer object to int\n",
    "from sklearn.preprocessing import LabelEncoder\n",
    "labelencoder = LabelEncoder()\n",
    "\n",
    "#for loop nominal feature column\n",
    "for i in train_003[nominal_features].columns:\n",
    "    #fit and transform each column and assign to itself\n",
    "    train_003[i] = labelencoder.fit_transform(train_003[i])\n",
    "    \n",
    "#for loop nominal feature column\n",
    "for i in test_003[nominal_features].columns:\n",
    "    #fit and transform each column and assign to itself\n",
    "    test_003[i] = labelencoder.fit_transform(test_003[i])\n",
    "    \n",
    "#Get dummy variable for nominal features\n",
    "train_005 = pd.get_dummies(train_003,columns=nominal_features,drop_first=True)\n",
    "test_005 = pd.get_dummies(test_003,columns=nominal_features,drop_first=True)"
   ]
  },
  {
   "cell_type": "code",
   "execution_count": 10,
   "metadata": {},
   "outputs": [
    {
     "name": "stdout",
     "output_type": "stream",
     "text": [
      "0\n",
      "0\n"
     ]
    }
   ],
   "source": [
    "#Only for test set\n",
    "#Check if any null values\n",
    "print(train_005.isnull().any().sum())\n",
    "print(test_005.isnull().any().sum())\n",
    "\n",
    "#Get missing columns in the training test\n",
    "missing_cols = set(train_005.drop(columns=\"SalePrice\").columns) - set(test_005.columns)\n",
    "\n",
    "#Add a missing column in test set with default value equal to 0\n",
    "for cols in missing_cols:\n",
    "    test_005[cols] = 0\n",
    "    \n",
    "#Ensure the order of column in the test set is in the same order than in train set\n",
    "test_005 = test_005[train_005.drop(columns=\"SalePrice\").columns]"
   ]
  },
  {
   "cell_type": "markdown",
   "execution_count": null,
   "metadata": {},
   "source": [
    "# 3. Feature Engineering"
   ]
  },
  {
   "cell_type": "code",
   "execution_count": 11,
   "metadata": {},
   "outputs": [],
   "source": [
    "\n",
    "\n",
    "#TotalBath\n",
    "train_005['TotalBath'] = (train_005['FullBath'] + train_005['HalfBath'] + train_005['BsmtFullBath'] + train_005['BsmtHalfBath'])\n",
    "test_005['TotalBath']  = (test_005['FullBath']  + test_005['HalfBath']  + test_005['BsmtFullBath']  + test_005['BsmtHalfBath'])\n",
    "\n",
    "#TotalPorch\n",
    "train_005['TotalPorch'] = (train_005['OpenPorchSF'] + train_005['3SsnPorch'] + train_005['EnclosedPorch'] + train_005['ScreenPorch'] + train_005['WoodDeckSF'])\n",
    "test_005['TotalPorch']  = (test_005['OpenPorchSF']  + test_005['3SsnPorch']  + test_005['EnclosedPorch']  + test_005['ScreenPorch']    + test_005['WoodDeckSF'])\n",
    "\n",
    "#Modeling happen during the sale year\n",
    "train_005[\"RecentRemodel\"] = (train_005[\"YearRemodAdd\"] == train_005[\"YrSold\"]) * 1\n",
    "test_005[\"RecentRemodel\"]  = (test_005[\"YearRemodAdd\"]  == test_005[\"YrSold\"]) * 1\n",
    "\n",
    "#House sold in the year it was built\n",
    "train_005[\"NewHouse\"] = (train_005[\"YearBuilt\"] == train_005[\"YrSold\"]) * 1\n",
    "test_005[\"NewHouse\"]  = (test_005[\"YearBuilt\"]  == test_005[\"YrSold\"]) * 1\n",
    "\n",
    "#HasPool\n",
    "train_005['HasPool'] = train_005['PoolArea'].apply(lambda x: 1 if x > 0 else 0)\n",
    "test_005['HasPool']  = test_005['PoolArea'].apply(lambda x: 1 if x > 0 else 0)\n",
    "\n",
    "#HasFireplaces\n",
    "train_005['HasFirePlace'] = train_005['Fireplaces'].apply(lambda x: 1 if x > 0 else 0)\n",
    "test_005['HasFirePlace']  = test_005['Fireplaces'].apply(lambda x: 1 if x > 0 else 0)\n",
    "\n",
    "#Has2ndFloor\n",
    "train_005['Has2ndFloor'] = train_005['2ndFlrSF'].apply(lambda x: 1 if x > 0 else 0)\n",
    "test_005['Has2ndFloor']  = test_005['2ndFlrSF'].apply(lambda x: 1 if x > 0 else 0)\n",
    "\n",
    "#HasGarage\n",
    "train_005['HasGarage'] = train_005['GarageArea'].apply(lambda x: 1 if x > 0 else 0)\n",
    "test_005['HasGarage']  = test_005['GarageArea'].apply(lambda x: 1 if x > 0 else 0)\n",
    "\n",
    "#HasBsmnt\n",
    "train_005['HasBsmnt'] = train_005['TotalBsmtSF'].apply(lambda x: 1 if x > 0 else 0)\n",
    "test_005['HasBsmnt']  = test_005['TotalBsmtSF'].apply(lambda x: 1 if x > 0 else 0)"
   ]
  },
  {
   "cell_type": "markdown",
   "execution_count": null,
   "metadata": {},
   "source": [
    "# 5. Fit Models"
   ]
  },
  {
   "cell_type": "code",
   "execution_count": 12,
   "metadata": {},
   "outputs": [],
   "source": [
    "#Importing packages\n",
    "from sklearn.model_selection import train_test_split\n",
    "\n",
    "X = train_005.drop(columns=\"SalePrice\")\n",
    "y = train_005[\"SalePrice\"]\n",
    "\n",
    "#Particiona o data set originalmente Train em Train(Treino) e Val(validação)\n",
    "X_train,X_val,y_train,y_val = train_test_split(X,y,test_size=0.25,random_state=0)"
   ]
  },
  {
   "cell_type": "code",
   "execution_count": 13,
   "metadata": {},
   "outputs": [
    {
     "data": {
      "text/plain": [
       "((1095, 222), (365, 222))"
      ]
     },
     "execution_count": 13,
     "metadata": {},
     "output_type": "execute_result"
    }
   ],
   "source": [
    "X_train.shape, X_val.shape"
   ]
  },
  {
   "cell_type": "markdown",
   "execution_count": null,
   "metadata": {},
   "source": [
    "## 5.2 XGBoost"
   ]
  },
  {
   "cell_type": "code",
   "execution_count": 14,
   "metadata": {},
   "outputs": [],
   "source": [
    "#Importing Packages\n",
    "import matplotlib.pyplot as plt\n",
    "\n",
    "from xgboost import XGBRegressor\n",
    "from xgboost import XGBRFRegressor\n",
    "from sklearn.model_selection import GridSearchCV\n",
    "\n",
    "from sklearn.metrics import mean_squared_error\n",
    "from sklearn.metrics import mean_absolute_error\n",
    "\n",
    "from sklearn.preprocessing import Imputer"
   ]
  },
  {
   "cell_type": "markdown",
   "execution_count": null,
   "metadata": {},
   "source": [
    "### Parameters"
   ]
  },
  {
   "cell_type": "markdown",
   "execution_count": null,
   "metadata": {},
   "source": [
    "<b>Default parameters</b>\n",
    "<br>max_depth=3, learning_rate=0.1, n_estimators=100, verbosity=1, silent=None, objective='reg:squarederror', booster='gbtree', n_jobs=1, nthread=None, gamma=0, min_child_weight=1, max_delta_step=0, subsample=1, colsample_bytree=1, colsample_bylevel=1, colsample_bynode=1, reg_alpha=0, reg_lambda=1, scale_pos_weight=1, base_score=0.5, random_state=0, seed=None, missing=None, importance_type='gain'"
   ]
  },
  {
   "cell_type": "markdown",
   "execution_count": null,
   "metadata": {},
   "source": [
    "*Explanation of relevant parameters for this kernel.*\n",
    "\n",
    "\n",
    "* **booster:** Select the type of model to run at each iteration\n",
    "    * gbtree: tree-based models\n",
    "    * gblinear: linear models\n",
    "* **nthread:** default to maximum number of threads available if not set\n",
    "* **objective:** This defines the loss function to be minimized\n",
    "\n",
    "**Parameters for controlling speed**\n",
    "\n",
    "* **subsample:** Denotes the fraction of observations to be randomly samples for each tree\n",
    "* **colsample_bytree:** Subsample ratio of columns when constructing each tree.\n",
    "* **n_estimators:**  Number of trees to fit.\n",
    "\n",
    "**Important parameters which control overfiting**\n",
    "\n",
    "* **learning_rate:** Makes the model more robust by shrinking the weights on each step\n",
    "* **max_depth:** The maximum depth of a tree.\n",
    "* **min_child_weight:** Defines the minimum sum of weights of all observations required in a child."
   ]
  },
  {
   "cell_type": "markdown",
   "execution_count": null,
   "metadata": {},
   "source": [
    "### Tuning the hyper-parameters"
   ]
  },
  {
   "cell_type": "markdown",
   "execution_count": null,
   "metadata": {},
   "source": [
    "**GridSearchCV params:**\n",
    "* **estimator:** estimator object\n",
    "* **param_grid :** dict or list of dictionaries\n",
    "* **scoring:** A single string or a callable to evaluate the predictions on the test set. If None, the estimator’s score method is used.\n",
    "    * https://scikit-learn.org/stable/modules/model_evaluation.html#scoring-parameter\n",
    "* **n_jobs:** Number of jobs to run in parallel. None means. -1 means using all processors.\n",
    "* **cv:** cross-validation, None, to use the default 3-fold cross validation. Integer, to specify the number of folds in a (Stratified)KFold."
   ]
  },
  {
   "cell_type": "code",
   "execution_count": 15,
   "metadata": {},
   "outputs": [],
   "source": [
    "#XGBoost hyper-parameter tuning\n",
    "def hyperParameterTuning(X_train, y_train):\n",
    "    param_tuning = {\n",
    "        'learning_rate': [0.01, 0.1],\n",
    "        'max_depth': [3, 5, 7, 10],\n",
    "        'min_child_weight': [1, 3, 5],\n",
    "        'subsample': [0.5, 0.7],\n",
    "        'colsample_bytree': [0.5, 0.7],\n",
    "        'n_estimators' : [100, 200, 500],\n",
    "        'objective': ['reg:squarederror']\n",
    "    }\n",
    "\n",
    "    xgb_model = XGBRegressor()\n",
    "\n",
    "    gsearch = GridSearchCV(estimator = xgb_model,\n",
    "                           param_grid = param_tuning,                        \n",
    "                           #scoring = 'neg_mean_absolute_error', #MAE\n",
    "                           #scoring = 'neg_mean_squared_error',  #MSE\n",
    "                           cv = 5,\n",
    "                           n_jobs = -1,\n",
    "                           verbose = 1)\n",
    "\n",
    "    gsearch.fit(X_train,y_train)\n",
    "\n",
    "    return gsearch.best_params_"
   ]
  },
  {
   "cell_type": "code",
   "execution_count": 16,
   "metadata": {},
   "outputs": [],
   "source": [
    "#Run only in the first run of the kernel.\n",
    "#hyperParameterTuning(X_train, y_train)"
   ]
  },
  {
   "cell_type": "markdown",
   "execution_count": null,
   "metadata": {},
   "source": [
    "### Best Params\n",
    "{'colsample_bytree': 0.7,\n",
    " 'learning_rate': 0.01,\n",
    " 'max_depth': 10,\n",
    " 'min_child_weight': 5,\n",
    " 'n_estimators': 500,\n",
    " 'subsample': 0.5}"
   ]
  },
  {
   "cell_type": "markdown",
   "execution_count": null,
   "metadata": {},
   "source": [
    "### Best Fit"
   ]
  },
  {
   "cell_type": "code",
   "execution_count": 17,
   "metadata": {},
   "outputs": [
    {
     "name": "stdout",
     "output_type": "stream",
     "text": [
      "CPU times: user 2.23 s, sys: 386 ms, total: 2.61 s\n",
      "Wall time: 2.94 s\n",
      "MAE:  15337.122324486301\n"
     ]
    }
   ],
   "source": [
    "xgb_model = XGBRegressor(\n",
    "        objective = 'reg:squarederror',\n",
    "        colsample_bytree = 0.5,\n",
    "        learning_rate = 0.05,\n",
    "        max_depth = 6,\n",
    "        min_child_weight = 1,\n",
    "        n_estimators = 1000,\n",
    "        subsample = 0.7)\n",
    "\n",
    "%time xgb_model.fit(X_train, y_train, early_stopping_rounds=5, eval_set=[(X_val, y_val)], verbose=False)\n",
    "\n",
    "y_pred_xgb = xgb_model.predict(X_val)\n",
    "\n",
    "mae_xgb = mean_absolute_error(y_val, y_pred_xgb)\n",
    "\n",
    "print(\"MAE: \", mae_xgb)"
   ]
  },
  {
   "cell_type": "markdown",
   "execution_count": null,
   "metadata": {},
   "source": [
    "# 7. Plot Results"
   ]
  },
  {
   "cell_type": "code",
   "execution_count": 18,
   "metadata": {},
   "outputs": [
    {
     "data": {
      "image/png": "[encoded data removed]",
      "text/plain": [
       "<Figure size 432x288 with 1 Axes>"
      ]
     },
     "metadata": {
      "needs_background": "light"
     },
     "output_type": "display_data"
    }
   ],
   "source": [
    "#Plot Real vs Predict\n",
    "plt.scatter(X_val['GrLivArea'] * 0.092903, y_val,          color='blue', label='Real',    alpha=0.5)\n",
    "plt.scatter(X_val['GrLivArea'] * 0.092903, y_pred_xgb,  color='red' , label='Predict', alpha=0.5)\n",
    "plt.title(\"Real vs Predict\")\n",
    "plt.legend(loc='best')\n",
    "plt.show()"
   ]
  },
  {
   "cell_type": "markdown",
   "execution_count": null,
   "metadata": {},
   "source": [
    "# 8. Predic Test & Submission"
   ]
  },
  {
   "cell_type": "code",
   "execution_count": 19,
   "metadata": {},
   "outputs": [],
   "source": [
    "X_test = test_005\n",
    "\n",
    "# Use the model to make predictions\n",
    "y_pred_test = xgb_model.predict(X_test)\n",
    "\n",
    "submission = pd.DataFrame({'Id':test_id,'SalePrice':y_pred_test})\n",
    "\n",
    "# Save results\n",
    "submission.to_csv(\"submission.csv\",index=False)"
   ]
  }
 ],
 "metadata": {
  "kernelspec": {
   "display_name": "Python 3",
   "language": "python",
   "name": "python3"
  },
  "language_info": {
   "codemirror_mode": {
    "name": "ipython",
    "version": 3
   },
   "file_extension": ".py",
   "mimetype": "text/x-python",
   "name": "python",
   "nbconvert_exporter": "python",
   "pygments_lexer": "ipython3",
   "version": "3.6.6"
  }
 },
 "nbformat": 4,
 "nbformat_minor": 4
}
