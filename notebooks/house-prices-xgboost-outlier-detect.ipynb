{
 "cells": [
  {
   "cell_type": "markdown",
   "metadata": {},
   "source": [
    "# 1. Loading and Inspecting Data"
   ]
  },
  {
   "cell_type": "code",
   "execution_count": 1,
   "metadata": {},
   "outputs": [],
   "source": [
    "#Importing packages\n",
    "import numpy as np \n",
    "import pandas as pd\n",
    "\n",
    "import matplotlib.pyplot as plt\n",
    "import seaborn as sns\n",
    "\n",
    "import warnings\n",
    "warnings.filterwarnings(\"ignore\")"
   ]
  },
  {
   "cell_type": "code",
   "execution_count": 2,
   "metadata": {},
   "outputs": [],
   "source": [
    "#Load dataset\n",
    "train = pd.read_csv(\"../input/house-prices-advanced-regression-techniques/train.csv\")\n",
    "test  = pd.read_csv(\"../input/house-prices-advanced-regression-techniques/test.csv\")"
   ]
  },
  {
   "cell_type": "code",
   "execution_count": 3,
   "metadata": {},
   "outputs": [],
   "source": [
    "#Feature to predict\n",
    "target = list(set(train.columns) - set(test.columns))\n",
    "target = target[0] "
   ]
  },
  {
   "cell_type": "markdown",
   "metadata": {},
   "source": [
    "## X/Y datasets"
   ]
  },
  {
   "cell_type": "code",
   "execution_count": 4,
   "metadata": {},
   "outputs": [],
   "source": [
    "X_train = train.loc[:, train.columns != target]\n",
    "Y_train = train[target]\n",
    "\n",
    "X_test = test\n",
    "\n",
    "#Drop id\n",
    "X_test_id = X_test[\"Id\"]\n",
    "\n",
    "X_train.drop(columns='Id',inplace=True)\n",
    "X_test.drop(columns='Id',inplace=True)\n",
    "\n",
    "X_train.reset_index(drop=True, inplace=True)\n",
    "X_test.reset_index(drop=True, inplace=True)"
   ]
  },
  {
   "cell_type": "markdown",
   "metadata": {},
   "source": [
    "## Fill NaN values"
   ]
  },
  {
   "cell_type": "code",
   "execution_count": 5,
   "metadata": {},
   "outputs": [],
   "source": [
    "def fillNa_df(df):\n",
    "    \n",
    "    #select object columns\n",
    "    obj_col = df.columns[df.dtypes == 'object'].values\n",
    "\n",
    "    #select non object columns\n",
    "    num_col = df.columns[df.dtypes != 'object'].values\n",
    "\n",
    "    #replace null value in obj columns with None\n",
    "    df[obj_col] = df[obj_col].fillna('None')\n",
    "\n",
    "    #replace null value in numeric columns with 0\n",
    "    df[num_col] = df[num_col].fillna(0)\n",
    "    \n",
    "    return df\n",
    "\n",
    "X_train_001 = fillNa_df(X_train)\n",
    "X_test_001 = fillNa_df(X_test)"
   ]
  },
  {
   "cell_type": "markdown",
   "metadata": {},
   "source": [
    "## Encoding ordinal/categorical features"
   ]
  },
  {
   "cell_type": "code",
   "execution_count": 6,
   "metadata": {},
   "outputs": [],
   "source": [
    "from sklearn.preprocessing import OneHotEncoder\n",
    "\n",
    "def oneHotEncoding(df_train, df_test):\n",
    "    \n",
    "    #select object columns\n",
    "    obj_col = df_train.columns[df_train.dtypes == 'object'].values\n",
    "\n",
    "    # creating instance of one-hot-encoder\n",
    "    enc = OneHotEncoder(handle_unknown='ignore')\n",
    "\n",
    "    # Ordinal features\n",
    "    ordinal_features = [x for x in obj_col]\n",
    "\n",
    "    # passing cat column (label encoded values)\n",
    "    df_train_encoded = pd.DataFrame(enc.fit_transform(df_train[ordinal_features]).toarray())\n",
    "    df_test_encoded  = pd.DataFrame(enc.transform(df_test[ordinal_features]).toarray())\n",
    "    \n",
    "    df_train_encoded.reset_index(drop=True, inplace=True)\n",
    "    df_test_encoded.reset_index(drop=True, inplace=True)\n",
    "\n",
    "    # merge with main df\n",
    "    df_train_encoded = pd.concat([df_train, df_train_encoded], axis=1)\n",
    "    df_test_encoded  = pd.concat([df_test,  df_test_encoded], axis=1)\n",
    "\n",
    "    # drop ordinal features\n",
    "    df_train_encoded.drop(columns=ordinal_features, inplace=True)\n",
    "    df_test_encoded.drop(columns=ordinal_features, inplace=True)\n",
    "    \n",
    "    return df_train_encoded, df_test_encoded\n",
    "\n",
    "X_train_002, X_test_002 = oneHotEncoding(X_train_001, X_test_001)"
   ]
  },
  {
   "cell_type": "markdown",
   "metadata": {},
   "source": [
    "# Feature Engineering"
   ]
  },
  {
   "cell_type": "code",
   "execution_count": 7,
   "metadata": {},
   "outputs": [],
   "source": [
    "def featureEng(df):\n",
    "\n",
    "    #TotalBath\n",
    "    df['TotalBath'] = (df['FullBath'] + df['HalfBath'] + df['BsmtFullBath'] + df['BsmtHalfBath'])\n",
    "\n",
    "    #TotalPorch\n",
    "    df['TotalPorch'] = (df['OpenPorchSF'] + df['3SsnPorch'] + df['EnclosedPorch'] + df['ScreenPorch'] + df['WoodDeckSF'])\n",
    "\n",
    "    #Modeling happen during the sale year\n",
    "    df[\"RecentRemodel\"] = (df[\"YearRemodAdd\"] == df[\"YrSold\"]) * 1\n",
    "\n",
    "    #House sold in the year it was built\n",
    "    df[\"NewHouse\"] = (df[\"YearBuilt\"] == df[\"YrSold\"]) * 1\n",
    "\n",
    "    #YrBltAndRemod\n",
    "    df[\"YrBltAndRemod\"] = df[\"YearBuilt\"] + df[\"YearRemodAdd\"]\n",
    "\n",
    "    #Total_sqr_footage\n",
    "    df[\"Total_sqr_footage\"] = df[\"BsmtFinSF1\"] + df[\"BsmtFinSF2\"] + df[\"1stFlrSF\"] + df[\"2ndFlrSF\"]\n",
    "\n",
    "    df['TotalSF'] = df['TotalBsmtSF'] + df['1stFlrSF'] + df['2ndFlrSF']\n",
    "\n",
    "    df['Area_Qual'] = df['TotalSF'] * df['OverallQual']\n",
    "\n",
    "    #HasPool\n",
    "    df['HasPool'] = df['PoolArea'].apply(lambda x: 1 if x > 0 else 0)\n",
    "\n",
    "    #HasFireplaces\n",
    "    df['HasFirePlace'] = df['Fireplaces'].apply(lambda x: 1 if x > 0 else 0)\n",
    "\n",
    "    #Has2ndFloor\n",
    "    df['Has2ndFloor'] = df['2ndFlrSF'].apply(lambda x: 1 if x > 0 else 0)\n",
    "\n",
    "    #HasGarage\n",
    "    df['HasGarage'] = df['GarageArea'].apply(lambda x: 1 if x > 0 else 0)\n",
    "\n",
    "    #HasBsmnt\n",
    "    df['HasBsmnt'] = df['TotalBsmtSF'].apply(lambda x: 1 if x > 0 else 0)\n",
    "    \n",
    "    return df\n",
    "\n",
    "#Feature Engineering\n",
    "X_train_003 = featureEng(X_train_002)\n",
    "X_test_003 = featureEng(X_test_002)"
   ]
  },
  {
   "cell_type": "markdown",
   "metadata": {},
   "source": [
    "# Outlier Detection\n",
    "\n",
    "Perhaps the most important hyperparameter in the model is the “contamination” argument, which is used to help estimate the number of outliers in the dataset. This is a value between 0.0 and 0.5 and by default is set to 0.1."
   ]
  },
  {
   "cell_type": "code",
   "execution_count": 8,
   "metadata": {},
   "outputs": [
    {
     "name": "stderr",
     "output_type": "stream",
     "text": [
      "/opt/conda/lib/python3.6/site-packages/sklearn/ensemble/iforest.py:415: DeprecationWarning: threshold_ attribute is deprecated in 0.20 and will be removed in 0.22.\n",
      "  \" be removed in 0.22.\", DeprecationWarning)\n"
     ]
    },
    {
     "name": "stdout",
     "output_type": "stream",
     "text": [
      "Total:  (1460, 316)\n",
      "Not Outliers:  (1460, 316)\n",
      "Outliers:  (18, 316)\n"
     ]
    }
   ],
   "source": [
    "from sklearn.ensemble import IsolationForest\n",
    "from sklearn.covariance import EllipticEnvelope\n",
    "from sklearn.neighbors import LocalOutlierFactor\n",
    "from sklearn.svm import OneClassSVM\n",
    "\n",
    "\n",
    "def dropoutlier(df_X, df_Y, method='IsolationForest'):\n",
    "\n",
    "    if(method=='IsolationForest'):\n",
    "        #Isolation Forest\n",
    "\n",
    "        # identify outliers in the training dataset\n",
    "        iso = IsolationForest(contamination=0.012)\n",
    "        yhat = iso.fit_predict(df_X)\n",
    "\n",
    "    if(method=='MinimumCovarianceDeterminant'):\n",
    "        #Minimum Covariance Determinant\n",
    "\n",
    "        # identify outliers in the training dataset\n",
    "        ee = EllipticEnvelope(contamination=0.01, n_jobs=-1, random_state=42)\n",
    "        yhat = ee.fit_predict(df_X)\n",
    "\n",
    "    if(method=='LocalOutlierFactor'):\n",
    "        #Local Outlier Factor\n",
    "\n",
    "        # identify outliers in the training dataset\n",
    "        lof = LocalOutlierFactor()\n",
    "        yhat = lof.fit_predict(df_X)\n",
    "\n",
    "    if(method=='OneClassSVM'):\n",
    "        #One-Class SVM\n",
    "\n",
    "        # identify outliers in the training dataset\n",
    "        ee = OneClassSVM(nu=0.001)\n",
    "        yhat = ee.fit_predict(df_X)\n",
    "\n",
    "    # select all rows that are not outliers\n",
    "    mask = yhat != -1\n",
    "    df_X_drop, df_Y_drop = df_X[mask], df_Y[mask]\n",
    "\n",
    "    # select all rows that are outliers\n",
    "    masko = yhat == -1\n",
    "    df_X_o, df_Y_o = df_X[masko], df_Y[masko]\n",
    "    \n",
    "    return df_X, df_Y, [df_X_o, df_Y_o]\n",
    "\n",
    "#Drop outliers\n",
    "X_train_004, Y_train_004, df_o = dropoutlier(X_train_003, Y_train)\n",
    "\n",
    "# summarize the shape of the updated training dataset\n",
    "print('Total: ', X_train_004.shape)\n",
    "print('Not Outliers: ', X_train_003.shape)\n",
    "print('Outliers: ', df_o[0].shape)"
   ]
  },
  {
   "cell_type": "code",
   "execution_count": 9,
   "metadata": {},
   "outputs": [
    {
     "data": {
      "image/png": "[encoded data removed]",
      "text/plain": [
       "<Figure size 432x288 with 1 Axes>"
      ]
     },
     "metadata": {
      "needs_background": "light"
     },
     "output_type": "display_data"
    }
   ],
   "source": [
    "#Plot GrLivArea vs SalePrice\n",
    "plt.scatter(X_train_004['GrLivArea'], Y_train_004, color='blue', alpha=0.5)\n",
    "plt.scatter(df_o[0]['GrLivArea'],   df_o[1],   color='red',  alpha=0.5, label='Outlier')\n",
    "plt.legend(loc=\"upper left\")\n",
    "plt.title(\"GrLivArea vs SalePrice\")\n",
    "plt.xlabel(\"GrLivArea\")\n",
    "plt.ylabel(\"SalePrice\")\n",
    "plt.show()"
   ]
  },
  {
   "cell_type": "markdown",
   "metadata": {},
   "source": [
    "# Split dataframe - Train Validation"
   ]
  },
  {
   "cell_type": "code",
   "execution_count": 10,
   "metadata": {},
   "outputs": [
    {
     "data": {
      "text/plain": [
       "((1168, 316), (292, 316))"
      ]
     },
     "execution_count": 10,
     "metadata": {},
     "output_type": "execute_result"
    }
   ],
   "source": [
    "#Importing packages\n",
    "from sklearn.model_selection import train_test_split\n",
    "\n",
    "#Particiona o data set originalmente Train em Train(Treino) e Val(validação)\n",
    "X_train_005, X_val_005, Y_train_005, Y_val_005 = train_test_split(X_train_004, \n",
    "                                                                  Y_train_004, \n",
    "                                                                  test_size=0.2, \n",
    "                                                                  random_state=42)\n",
    "\n",
    "X_train_005.shape, X_val_005.shape"
   ]
  },
  {
   "cell_type": "markdown",
   "metadata": {},
   "source": [
    "# 5. Fit Models"
   ]
  },
  {
   "cell_type": "markdown",
   "metadata": {},
   "source": [
    "## 5.2 XGBoost"
   ]
  },
  {
   "cell_type": "code",
   "execution_count": 11,
   "metadata": {},
   "outputs": [],
   "source": [
    "#Importing Packages\n",
    "import matplotlib.pyplot as plt\n",
    "\n",
    "from xgboost import XGBRegressor\n",
    "from xgboost import XGBRFRegressor\n",
    "from sklearn.model_selection import GridSearchCV\n",
    "\n",
    "from sklearn.metrics import mean_squared_error\n",
    "from sklearn.metrics import mean_absolute_error\n",
    "\n",
    "from sklearn.preprocessing import Imputer"
   ]
  },
  {
   "cell_type": "markdown",
   "metadata": {},
   "source": [
    "**GridSearchCV params:**\n",
    "* **estimator:** estimator object\n",
    "* **param_grid :** dict or list of dictionaries\n",
    "* **scoring:** A single string or a callable to evaluate the predictions on the test set. If None, the estimator’s score method is used.\n",
    "    * https://scikit-learn.org/stable/modules/model_evaluation.html#scoring-parameter\n",
    "* **n_jobs:** Number of jobs to run in parallel. None means. -1 means using all processors.\n",
    "* **cv:** cross-validation, None, to use the default 3-fold cross validation. Integer, to specify the number of folds in a (Stratified)KFold."
   ]
  },
  {
   "cell_type": "code",
   "execution_count": 12,
   "metadata": {},
   "outputs": [],
   "source": [
    "#XGBoost hyper-parameter tuning\n",
    "def hyperParameterTuning(X_train, y_train):\n",
    "    param_tuning = {\n",
    "        'learning_rate': [0.01, 0.1],\n",
    "        'max_depth': [3, 5, 10],\n",
    "        'min_child_weight': [1, 3, 5],\n",
    "        'subsample': [0.5, 0.7],\n",
    "        'colsample_bytree': [0.5, 0.7],\n",
    "        'n_estimators' : [200, 500],\n",
    "        'objective': ['reg:squarederror']\n",
    "    }\n",
    "\n",
    "    xgb_model = XGBRegressor(tree_method='gpu_hist')\n",
    "\n",
    "    gsearch = GridSearchCV(estimator = xgb_model,\n",
    "                           param_grid = param_tuning,\n",
    "                           cv = 5,\n",
    "                           n_jobs = -1,\n",
    "                           verbose = 1)\n",
    "\n",
    "    gsearch.fit(X_train,y_train)\n",
    "\n",
    "    return gsearch.best_params_"
   ]
  },
  {
   "cell_type": "code",
   "execution_count": 13,
   "metadata": {},
   "outputs": [],
   "source": [
    "#Run only in the first run of the kernel.\n",
    "#hyperParameterTuning(X_train_005, Y_train_005)"
   ]
  },
  {
   "cell_type": "markdown",
   "metadata": {},
   "source": [
    "### Best Params\n",
    "<br>{'colsample_bytree': 0.7,\n",
    " 'learning_rate': 0.1,\n",
    " 'max_depth': 3,\n",
    " 'min_child_weight': 1,\n",
    " 'n_estimators': 500,\n",
    " 'objective': 'reg:squarederror',\n",
    " 'subsample': 0.7}"
   ]
  },
  {
   "cell_type": "markdown",
   "metadata": {},
   "source": [
    "### Best Fit"
   ]
  },
  {
   "cell_type": "code",
   "execution_count": 14,
   "metadata": {},
   "outputs": [
    {
     "name": "stdout",
     "output_type": "stream",
     "text": [
      "MAE:  16043.125\n"
     ]
    }
   ],
   "source": [
    "#Model fit\n",
    "xgb_model = XGBRegressor(\n",
    "        objective = 'reg:squarederror',\n",
    "        colsample_bytree = 0.7,\n",
    "        learning_rate = 0.1,\n",
    "        max_depth = 3,\n",
    "        min_child_weight = 1,\n",
    "        n_estimators = 500,\n",
    "        subsample = 0.7)\n",
    "\n",
    "eval_set = [(X_val_005, Y_val_005)]\n",
    "\n",
    "xgb_model.fit(X_train_005, Y_train_005, early_stopping_rounds=10, eval_metric=\"mae\", eval_set = eval_set, verbose=False)\n",
    "\n",
    "print('MAE: ', xgb_model.evals_result()['validation_0']['mae'][-1])"
   ]
  },
  {
   "cell_type": "code",
   "execution_count": 15,
   "metadata": {},
   "outputs": [],
   "source": [
    "Y_val_pred = xgb_model.predict(X_val_005)"
   ]
  },
  {
   "cell_type": "markdown",
   "metadata": {},
   "source": [
    "# 7. Plot Results"
   ]
  },
  {
   "cell_type": "code",
   "execution_count": 16,
   "metadata": {},
   "outputs": [
    {
     "data": {
      "image/png": "[encoded data removed]",
      "text/plain": [
       "<Figure size 432x288 with 1 Axes>"
      ]
     },
     "metadata": {
      "needs_background": "light"
     },
     "output_type": "display_data"
    }
   ],
   "source": [
    "#Plot Real vs Predict\n",
    "plt.scatter(X_val_005['GrLivArea'], Y_val_005,   color='blue', label='Real',    alpha=0.5)\n",
    "plt.scatter(X_val_005['GrLivArea'], Y_val_pred,  color='red' , label='Predict', alpha=0.5)\n",
    "plt.title(\"Real vs Predict\")\n",
    "plt.legend(loc='best')\n",
    "plt.show()"
   ]
  },
  {
   "cell_type": "markdown",
   "metadata": {},
   "source": [
    "# 8. Predic Test & Submission"
   ]
  },
  {
   "cell_type": "code",
   "execution_count": 17,
   "metadata": {},
   "outputs": [],
   "source": [
    "# Use the model to make predictions\n",
    "Y_pred_test = xgb_model.predict(X_test_003)\n",
    "\n",
    "submission = pd.DataFrame({'Id':X_test_id,'SalePrice':Y_pred_test})\n",
    "\n",
    "# Save results\n",
    "submission.to_csv(\"submission.csv\",index=False)"
   ]
  }
 ],
 "metadata": {
  "kernelspec": {
   "display_name": "Python 3",
   "language": "python",
   "name": "python3"
  },
  "language_info": {
   "codemirror_mode": {
    "name": "ipython",
    "version": 3
   },
   "file_extension": ".py",
   "mimetype": "text/x-python",
   "name": "python",
   "nbconvert_exporter": "python",
   "pygments_lexer": "ipython3",
   "version": "3.6.6"
  }
 },
 "nbformat": 4,
 "nbformat_minor": 4
}
