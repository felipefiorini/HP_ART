{
 "cells": [
  {
   "cell_type": "markdown",
   "execution_count": null,
   "metadata": {
    "_uuid": "6f4db7d65709434e7dd2d62cd0fd3dd978f2bdf9"
   },
   "source": [
    "<h1><b>House Prices: Advanced Regression Techniques</b></h1>\n",
    "<br>Predict sales prices and practice feature engineering, RFs, and gradient boosting\n",
    "<br>https://www.kaggle.com/c/house-prices-advanced-regression-techniques"
   ]
  },
  {
   "cell_type": "markdown",
   "execution_count": null,
   "metadata": {
    "_uuid": "cc0411c448a8ea75bc0761620fa83d81c09d306c"
   },
   "source": [
    "<H2>1. Importing packages"
   ]
  },
  {
   "cell_type": "code",
   "execution_count": 1,
   "metadata": {
    "_execution_state": "idle",
    "_uuid": "98e131970e4701df1774cffb00226e91503325a2"
   },
   "outputs": [
    {
     "name": "stderr",
     "output_type": "stream",
     "text": [
      "corrplot 0.84 loaded\n",
      "Loading required package: magrittr\n"
     ]
    }
   ],
   "source": [
    "library(corrplot)\n",
    "library(ggplot2)\n",
    "library(ggpubr)"
   ]
  },
  {
   "cell_type": "markdown",
   "execution_count": null,
   "metadata": {
    "_uuid": "560649212e23b001e3ae65da1948c87f8025122f"
   },
   "source": [
    "<H2>2. Definitions"
   ]
  },
  {
   "cell_type": "code",
   "execution_count": 2,
   "metadata": {
    "_uuid": "58bc4fb140031f01439989c6ecb1b5d5095f6f8b"
   },
   "outputs": [],
   "source": [
    "# Evaluation metric function\n",
    "RMSE <- function(x,y){\n",
    "    a <- round(sqrt(sum((log(x)-log(y))^2)/length(y)),5)\n",
    "    return(a)\n",
    "}\n",
    "\n",
    "#Convert categorical variable to numeric\n",
    "categoricalToNumeric <- function(data){\n",
    "    must.convert <- sapply(data ,is.factor)        #variable needs to be displayed as numeric    \n",
    "    data.aux<-sapply(data[,must.convert],unclass)  #data.frame of all categorical variables to convert   \n",
    "    data.out<-cbind(data[,!must.convert],data.aux) #complete data.frame with all variables    \n",
    "    return(data.out)    \n",
    "}"
   ]
  },
  {
   "cell_type": "markdown",
   "execution_count": null,
   "metadata": {
    "_uuid": "214fde2c2cd22086649029c4b15a216e3350aa71"
   },
   "source": [
    "<H2>3. Importing data and partition"
   ]
  },
  {
   "cell_type": "code",
   "execution_count": 3,
   "metadata": {
    "_uuid": "d77054cfb666e0d7ecb6d212f3c69e76dbe39af0",
    "scrolled": false
   },
   "outputs": [
    {
     "data": {
      "text/html": [
       "<span style=white-space:pre-wrap>'Length Training Set:  1175 | Length Validation Set:  285 | Length Test Set:  1459'</span>"
      ],
      "text/latex": [
       "'Length Training Set:  1175 \\textbar{} Length Validation Set:  285 \\textbar{} Length Test Set:  1459'"
      ],
      "text/markdown": [
       "<span style=white-space:pre-wrap>'Length Training Set:  1175 | Length Validation Set:  285 | Length Test Set:  1459'</span>"
      ],
      "text/plain": [
       "[1] \"Length Training Set:  1175 | Length Validation Set:  285 | Length Test Set:  1459\""
      ]
     },
     "metadata": {},
     "output_type": "display_data"
    }
   ],
   "source": [
    "df.data <- read.csv('../input/train.csv')\n",
    "df.test <- read.csv('../input/test.csv')\n",
    "\n",
    "# Set seed so the train/test split\n",
    "set.seed(42)\n",
    "\n",
    "df.train.split <- sample(2\n",
    "                        , nrow(df.data)\n",
    "                        , replace = TRUE\n",
    "                        , prob = c(0.8, 0.2))\n",
    "df.train = df.data[df.train.split == 1,]\n",
    "df.val   = df.data[df.train.split == 2,]\n",
    "\n",
    "paste('Length Training Set: ',nrow(df.train),'| Length Validation Set: ',nrow(df.val),'| Length Test Set: ',nrow(df.test))"
   ]
  },
  {
   "cell_type": "markdown",
   "execution_count": null,
   "metadata": {
    "_uuid": "3304e640d3a475d0e5ef96135c378c0a6b0d816b"
   },
   "source": [
    "<H2>4. Explore data"
   ]
  },
  {
   "cell_type": "code",
   "execution_count": 4,
   "metadata": {
    "_uuid": "432a8a08e7cda8e5577d44beb35522d9979d0b70",
    "scrolled": false
   },
   "outputs": [
    {
     "data": {
      "text/plain": [
       "       Id           MSSubClass        MSZoning    LotFrontage    \n",
       " Min.   :   3.0   Min.   : 20.00   C (all):  6   Min.   : 21.00  \n",
       " 1st Qu.: 368.0   1st Qu.: 20.00   FV     : 58   1st Qu.: 59.00  \n",
       " Median : 729.0   Median : 50.00   RH     : 12   Median : 70.00  \n",
       " Mean   : 733.3   Mean   : 56.43   RL     :929   Mean   : 70.08  \n",
       " 3rd Qu.:1099.0   3rd Qu.: 70.00   RM     :170   3rd Qu.: 80.00  \n",
       " Max.   :1460.0   Max.   :190.00                 Max.   :313.00  \n",
       "                                                 NA's   :207     \n",
       "    LotArea        Street      Alley      LotShape  LandContour  Utilities   \n",
       " Min.   :  1300   Grvl:   5   Grvl:  40   IR1:383   Bnk:  51    AllPub:1174  \n",
       " 1st Qu.:  7654   Pave:1170   Pave:  35   IR2: 33   HLS:  40    NoSeWa:   1  \n",
       " Median :  9520               NA's:1100   IR3: 10   Low:  30                 \n",
       " Mean   : 10624                           Reg:749   Lvl:1054                 \n",
       " 3rd Qu.: 11645                                                              \n",
       " Max.   :215245                                                              \n",
       "                                                                             \n",
       "   LotConfig   LandSlope   Neighborhood   Condition1     Condition2  \n",
       " Corner :209   Gtl:1112   NAmes  :183   Norm   :1017   Norm   :1162  \n",
       " CulDSac: 78   Mod:  53   CollgCr:119   Feedr  :  64   Feedr  :   6  \n",
       " FR2    : 37   Sev:  10   OldTown: 91   Artery :  42   Artery :   2  \n",
       " FR3    :  4              Edwards: 81   RRAn   :  19   PosA   :   1  \n",
       " Inside :847              Somerst: 75   PosN   :  14   PosN   :   1  \n",
       "                          NWAmes : 61   RRAe   :   8   RRAe   :   1  \n",
       "                          (Other):565   (Other):  11   (Other):   2  \n",
       "   BldgType     HouseStyle   OverallQual      OverallCond      YearBuilt   \n",
       " 1Fam  :984   1Story :591   Min.   : 1.000   Min.   :2.000   Min.   :1872  \n",
       " 2fmCon: 26   2Story :351   1st Qu.: 5.000   1st Qu.:5.000   1st Qu.:1954  \n",
       " Duplex: 43   1.5Fin :129   Median : 6.000   Median :5.000   Median :1972  \n",
       " Twnhs : 32   SLvl   : 51   Mean   : 6.111   Mean   :5.549   Mean   :1971  \n",
       " TwnhsE: 90   SFoyer : 27   3rd Qu.: 7.000   3rd Qu.:6.000   3rd Qu.:2000  \n",
       "              1.5Unf : 11   Max.   :10.000   Max.   :9.000   Max.   :2010  \n",
       "              (Other): 15                                                  \n",
       "  YearRemodAdd    RoofStyle      RoofMatl     Exterior1st   Exterior2nd \n",
       " Min.   :1950   Flat   : 11   CompShg:1152   VinylSd:411   VinylSd:403  \n",
       " 1st Qu.:1966   Gable  :913   Tar&Grv:   8   Wd Sdng:177   Wd Sdng:165  \n",
       " Median :1993   Gambrel: 10   WdShngl:   6   HdBoard:175   HdBoard:164  \n",
       " Mean   :1985   Hip    :233   WdShake:   5   MetalSd:167   MetalSd:162  \n",
       " 3rd Qu.:2004   Mansard:  6   ClyTile:   1   Plywood: 93   Plywood:122  \n",
       " Max.   :2010   Shed   :  2   Membran:   1   CemntBd: 45   CmentBd: 45  \n",
       "                              (Other):   2   (Other):107   (Other):114  \n",
       "   MasVnrType    MasVnrArea     ExterQual ExterCond  Foundation  BsmtQual  \n",
       " BrkCmn : 12   Min.   :   0.0   Ex: 39    Ex:   2   BrkTil:118   Ex  : 92  \n",
       " BrkFace:356   1st Qu.:   0.0   Fa: 10    Fa:  24   CBlock:511   Fa  : 29  \n",
       " None   :694   Median :   0.0   Gd:397    Gd: 118   PConc :519   Gd  :500  \n",
       " Stone  :107   Mean   : 103.5   TA:729    Po:   1   Slab  : 20   TA  :522  \n",
       " NA's   :  6   3rd Qu.: 162.0             TA:1030   Stone :  5   NA's: 32  \n",
       "               Max.   :1600.0                       Wood  :  2             \n",
       "               NA's   :6                                                   \n",
       " BsmtCond    BsmtExposure BsmtFinType1   BsmtFinSF1     BsmtFinType2\n",
       " Fa  :  41   Av  :172     ALQ :170     Min.   :   0.0   ALQ :  14   \n",
       " Gd  :  53   Gd  :114     BLQ :119     1st Qu.:   0.0   BLQ :  23   \n",
       " Po  :   1   Mn  : 97     GLQ :338     Median : 384.0   GLQ :  11   \n",
       " TA  :1048   No  :759     LwQ : 59     Mean   : 447.8   LwQ :  41   \n",
       " NA's:  32   NA's: 33     Rec :107     3rd Qu.: 719.0   Rec :  47   \n",
       "                          Unf :350     Max.   :5644.0   Unf :1006   \n",
       "                          NA's: 32                      NA's:  33   \n",
       "   BsmtFinSF2        BsmtUnfSF       TotalBsmtSF    Heating     HeatingQC\n",
       " Min.   :   0.00   Min.   :   0.0   Min.   :   0   Floor:   1   Ex:592   \n",
       " 1st Qu.:   0.00   1st Qu.: 236.0   1st Qu.: 797   GasA :1147   Fa: 42   \n",
       " Median :   0.00   Median : 484.0   Median :1007   GasW :  15   Gd:186   \n",
       " Mean   :  48.83   Mean   : 570.3   Mean   :1067   Grav :   7   Po:  0   \n",
       " 3rd Qu.:   0.00   3rd Qu.: 807.0   3rd Qu.:1318   OthW :   2   TA:355   \n",
       " Max.   :1474.00   Max.   :2336.0   Max.   :6110   Wall :   3            \n",
       "                                                                         \n",
       " CentralAir Electrical     X1stFlrSF        X2ndFlrSF       LowQualFinSF    \n",
       " N:  80     FuseA:  76   Min.   : 334.0   Min.   :   0.0   Min.   :  0.000  \n",
       " Y:1095     FuseF:  22   1st Qu.: 888.5   1st Qu.:   0.0   1st Qu.:  0.000  \n",
       "            FuseP:   3   Median :1105.0   Median :   0.0   Median :  0.000  \n",
       "            Mix  :   1   Mean   :1173.7   Mean   : 345.1   Mean   :  5.417  \n",
       "            SBrkr:1073   3rd Qu.:1406.0   3rd Qu.: 726.0   3rd Qu.:  0.000  \n",
       "                         Max.   :4692.0   Max.   :2065.0   Max.   :572.000  \n",
       "                                                                            \n",
       "   GrLivArea     BsmtFullBath     BsmtHalfBath        FullBath    \n",
       " Min.   : 334   Min.   :0.0000   Min.   :0.00000   Min.   :0.000  \n",
       " 1st Qu.:1144   1st Qu.:0.0000   1st Qu.:0.00000   1st Qu.:1.000  \n",
       " Median :1470   Median :0.0000   Median :0.00000   Median :2.000  \n",
       " Mean   :1524   Mean   :0.4332   Mean   :0.05617   Mean   :1.562  \n",
       " 3rd Qu.:1776   3rd Qu.:1.0000   3rd Qu.:0.00000   3rd Qu.:2.000  \n",
       " Max.   :5642   Max.   :3.0000   Max.   :2.00000   Max.   :3.000  \n",
       "                                                                  \n",
       "    HalfBath       BedroomAbvGr    KitchenAbvGr   KitchenQual  TotRmsAbvGrd   \n",
       " Min.   :0.0000   Min.   :0.000   Min.   :0.000   Ex: 79      Min.   : 2.000  \n",
       " 1st Qu.:0.0000   1st Qu.:2.000   1st Qu.:1.000   Fa: 31      1st Qu.: 5.000  \n",
       " Median :0.0000   Median :3.000   Median :1.000   Gd:470      Median : 6.000  \n",
       " Mean   :0.3796   Mean   :2.873   Mean   :1.046   TA:595      Mean   : 6.526  \n",
       " 3rd Qu.:1.0000   3rd Qu.:3.000   3rd Qu.:1.000               3rd Qu.: 7.000  \n",
       " Max.   :2.0000   Max.   :8.000   Max.   :3.000               Max.   :14.000  \n",
       "                                                                              \n",
       " Functional    Fireplaces     FireplaceQu   GarageType   GarageYrBlt  \n",
       " Maj1:  10   Min.   :0.0000   Ex  : 16    2Types :  5   Min.   :1906  \n",
       " Maj2:   3   1st Qu.:0.0000   Fa  : 25    Attchd :703   1st Qu.:1961  \n",
       " Min1:  22   Median :1.0000   Gd  :318    Basment: 16   Median :1979  \n",
       " Min2:  28   Mean   :0.6238   Po  : 17    BuiltIn: 72   Mean   :1978  \n",
       " Mod :  13   3rd Qu.:1.0000   TA  :248    CarPort:  9   3rd Qu.:2002  \n",
       " Sev :   1   Max.   :3.0000   NA's:551    Detchd :309   Max.   :2010  \n",
       " Typ :1098                                NA's   : 61   NA's   :61    \n",
       " GarageFinish   GarageCars      GarageArea     GarageQual  GarageCond \n",
       " Fin :274     Min.   :0.000   Min.   :   0.0   Ex  :   1   Ex  :   0  \n",
       " RFn :338     1st Qu.:1.000   1st Qu.: 336.0   Fa  :  39   Fa  :  31  \n",
       " Unf :502     Median :2.000   Median : 482.0   Gd  :  12   Gd  :   7  \n",
       " NA's: 61     Mean   :1.777   Mean   : 476.2   Po  :   3   Po  :   6  \n",
       "              3rd Qu.:2.000   3rd Qu.: 576.0   TA  :1059   TA  :1070  \n",
       "              Max.   :4.000   Max.   :1418.0   NA's:  61   NA's:  61  \n",
       "                                                                      \n",
       " PavedDrive   WoodDeckSF      OpenPorchSF     EnclosedPorch   \n",
       " N:  73     Min.   :  0.00   Min.   :  0.00   Min.   :  0.00  \n",
       " P:  25     1st Qu.:  0.00   1st Qu.:  0.00   1st Qu.:  0.00  \n",
       " Y:1077     Median :  0.00   Median : 26.00   Median :  0.00  \n",
       "            Mean   : 92.99   Mean   : 47.87   Mean   : 21.28  \n",
       "            3rd Qu.:168.00   3rd Qu.: 72.00   3rd Qu.:  0.00  \n",
       "            Max.   :857.00   Max.   :523.00   Max.   :552.00  \n",
       "                                                              \n",
       "   X3SsnPorch       ScreenPorch        PoolArea        PoolQC       Fence    \n",
       " Min.   :  0.000   Min.   :  0.00   Min.   :  0.000   Ex  :   2   GdPrv: 47  \n",
       " 1st Qu.:  0.000   1st Qu.:  0.00   1st Qu.:  0.000   Fa  :   2   GdWo : 44  \n",
       " Median :  0.000   Median :  0.00   Median :  0.000   Gd  :   3   MnPrv:127  \n",
       " Mean   :  3.475   Mean   : 15.45   Mean   :  3.428   NA's:1168   MnWw :  7  \n",
       " 3rd Qu.:  0.000   3rd Qu.:  0.00   3rd Qu.:  0.000               NA's :950  \n",
       " Max.   :508.000   Max.   :440.00   Max.   :738.000                          \n",
       "                                                                             \n",
       " MiscFeature    MiscVal            MoSold           YrSold        SaleType   \n",
       " Gar2:   1   Min.   :   0.00   Min.   : 1.000   Min.   :2006   WD     :1016  \n",
       " Othr:   1   1st Qu.:   0.00   1st Qu.: 5.000   1st Qu.:2007   New    :  97  \n",
       " Shed:  35   Median :   0.00   Median : 6.000   Median :2008   COD    :  38  \n",
       " TenC:   1   Mean   :  34.48   Mean   : 6.313   Mean   :2008   ConLD  :   6  \n",
       " NA's:1137   3rd Qu.:   0.00   3rd Qu.: 8.000   3rd Qu.:2009   ConLw  :   5  \n",
       "             Max.   :8300.00   Max.   :12.000   Max.   :2010   ConLI  :   4  \n",
       "                                                               (Other):   9  \n",
       " SaleCondition   SalePrice     \n",
       " Abnorml: 78   Min.   : 34900  \n",
       " AdjLand:  4   1st Qu.:129950  \n",
       " Alloca : 12   Median :164500  \n",
       " Family : 20   Mean   :181961  \n",
       " Normal :962   3rd Qu.:215000  \n",
       " Partial: 99   Max.   :755000  \n",
       "                               "
      ]
     },
     "metadata": {},
     "output_type": "display_data"
    },
    {
     "data": {
      "text/html": [
       "<table>\n",
       "<thead><tr><th></th><th scope=col>Id</th><th scope=col>MSSubClass</th><th scope=col>MSZoning</th><th scope=col>LotFrontage</th><th scope=col>LotArea</th><th scope=col>Street</th><th scope=col>Alley</th><th scope=col>LotShape</th><th scope=col>LandContour</th><th scope=col>Utilities</th><th scope=col>⋯</th><th scope=col>PoolArea</th><th scope=col>PoolQC</th><th scope=col>Fence</th><th scope=col>MiscFeature</th><th scope=col>MiscVal</th><th scope=col>MoSold</th><th scope=col>YrSold</th><th scope=col>SaleType</th><th scope=col>SaleCondition</th><th scope=col>SalePrice</th></tr></thead>\n",
       "<tbody>\n",
       "\t<tr><th scope=row>3</th><td>3      </td><td>60     </td><td>RL     </td><td>68     </td><td>11250  </td><td>Pave   </td><td>NA     </td><td>IR1    </td><td>Lvl    </td><td>AllPub </td><td>⋯      </td><td>0      </td><td>NA     </td><td>NA     </td><td>NA     </td><td>  0    </td><td> 9     </td><td>2008   </td><td>WD     </td><td>Normal </td><td>223500 </td></tr>\n",
       "\t<tr><th scope=row>5</th><td>5      </td><td>60     </td><td>RL     </td><td>84     </td><td>14260  </td><td>Pave   </td><td>NA     </td><td>IR1    </td><td>Lvl    </td><td>AllPub </td><td>⋯      </td><td>0      </td><td>NA     </td><td>NA     </td><td>NA     </td><td>  0    </td><td>12     </td><td>2008   </td><td>WD     </td><td>Normal </td><td>250000 </td></tr>\n",
       "\t<tr><th scope=row>6</th><td>6      </td><td>50     </td><td>RL     </td><td>85     </td><td>14115  </td><td>Pave   </td><td>NA     </td><td>IR1    </td><td>Lvl    </td><td>AllPub </td><td>⋯      </td><td>0      </td><td>NA     </td><td>MnPrv  </td><td>Shed   </td><td>700    </td><td>10     </td><td>2009   </td><td>WD     </td><td>Normal </td><td>143000 </td></tr>\n",
       "\t<tr><th scope=row>7</th><td>7      </td><td>20     </td><td>RL     </td><td>75     </td><td>10084  </td><td>Pave   </td><td>NA     </td><td>Reg    </td><td>Lvl    </td><td>AllPub </td><td>⋯      </td><td>0      </td><td>NA     </td><td>NA     </td><td>NA     </td><td>  0    </td><td> 8     </td><td>2007   </td><td>WD     </td><td>Normal </td><td>307000 </td></tr>\n",
       "\t<tr><th scope=row>8</th><td>8      </td><td>60     </td><td>RL     </td><td>NA     </td><td>10382  </td><td>Pave   </td><td>NA     </td><td>IR1    </td><td>Lvl    </td><td>AllPub </td><td>⋯      </td><td>0      </td><td>NA     </td><td>NA     </td><td>Shed   </td><td>350    </td><td>11     </td><td>2009   </td><td>WD     </td><td>Normal </td><td>200000 </td></tr>\n",
       "\t<tr><th scope=row>9</th><td>9      </td><td>50     </td><td>RM     </td><td>51     </td><td> 6120  </td><td>Pave   </td><td>NA     </td><td>Reg    </td><td>Lvl    </td><td>AllPub </td><td>⋯      </td><td>0      </td><td>NA     </td><td>NA     </td><td>NA     </td><td>  0    </td><td> 4     </td><td>2008   </td><td>WD     </td><td>Abnorml</td><td>129900 </td></tr>\n",
       "</tbody>\n",
       "</table>\n"
      ],
      "text/latex": [
       "\\begin{tabular}{r|lllllllllllllllllllllllllllllllllllllllllllllllllllllllllllllllllllllllllllllllll}\n",
       "  & Id & MSSubClass & MSZoning & LotFrontage & LotArea & Street & Alley & LotShape & LandContour & Utilities & ⋯ & PoolArea & PoolQC & Fence & MiscFeature & MiscVal & MoSold & YrSold & SaleType & SaleCondition & SalePrice\\\\\n",
       "\\hline\n",
       "\t3 & 3       & 60      & RL      & 68      & 11250   & Pave    & NA      & IR1     & Lvl     & AllPub  & ⋯       & 0       & NA      & NA      & NA      &   0     &  9      & 2008    & WD      & Normal  & 223500 \\\\\n",
       "\t5 & 5       & 60      & RL      & 84      & 14260   & Pave    & NA      & IR1     & Lvl     & AllPub  & ⋯       & 0       & NA      & NA      & NA      &   0     & 12      & 2008    & WD      & Normal  & 250000 \\\\\n",
       "\t6 & 6       & 50      & RL      & 85      & 14115   & Pave    & NA      & IR1     & Lvl     & AllPub  & ⋯       & 0       & NA      & MnPrv   & Shed    & 700     & 10      & 2009    & WD      & Normal  & 143000 \\\\\n",
       "\t7 & 7       & 20      & RL      & 75      & 10084   & Pave    & NA      & Reg     & Lvl     & AllPub  & ⋯       & 0       & NA      & NA      & NA      &   0     &  8      & 2007    & WD      & Normal  & 307000 \\\\\n",
       "\t8 & 8       & 60      & RL      & NA      & 10382   & Pave    & NA      & IR1     & Lvl     & AllPub  & ⋯       & 0       & NA      & NA      & Shed    & 350     & 11      & 2009    & WD      & Normal  & 200000 \\\\\n",
       "\t9 & 9       & 50      & RM      & 51      &  6120   & Pave    & NA      & Reg     & Lvl     & AllPub  & ⋯       & 0       & NA      & NA      & NA      &   0     &  4      & 2008    & WD      & Abnorml & 129900 \\\\\n",
       "\\end{tabular}\n"
      ],
      "text/markdown": [
       "\n",
       "| <!--/--> | Id | MSSubClass | MSZoning | LotFrontage | LotArea | Street | Alley | LotShape | LandContour | Utilities | ⋯ | PoolArea | PoolQC | Fence | MiscFeature | MiscVal | MoSold | YrSold | SaleType | SaleCondition | SalePrice |\n",
       "|---|---|---|---|---|---|---|---|---|---|---|---|---|---|---|---|---|---|---|---|---|---|\n",
       "| 3 | 3       | 60      | RL      | 68      | 11250   | Pave    | NA      | IR1     | Lvl     | AllPub  | ⋯       | 0       | NA      | NA      | NA      |   0     |  9      | 2008    | WD      | Normal  | 223500  |\n",
       "| 5 | 5       | 60      | RL      | 84      | 14260   | Pave    | NA      | IR1     | Lvl     | AllPub  | ⋯       | 0       | NA      | NA      | NA      |   0     | 12      | 2008    | WD      | Normal  | 250000  |\n",
       "| 6 | 6       | 50      | RL      | 85      | 14115   | Pave    | NA      | IR1     | Lvl     | AllPub  | ⋯       | 0       | NA      | MnPrv   | Shed    | 700     | 10      | 2009    | WD      | Normal  | 143000  |\n",
       "| 7 | 7       | 20      | RL      | 75      | 10084   | Pave    | NA      | Reg     | Lvl     | AllPub  | ⋯       | 0       | NA      | NA      | NA      |   0     |  8      | 2007    | WD      | Normal  | 307000  |\n",
       "| 8 | 8       | 60      | RL      | NA      | 10382   | Pave    | NA      | IR1     | Lvl     | AllPub  | ⋯       | 0       | NA      | NA      | Shed    | 350     | 11      | 2009    | WD      | Normal  | 200000  |\n",
       "| 9 | 9       | 50      | RM      | 51      |  6120   | Pave    | NA      | Reg     | Lvl     | AllPub  | ⋯       | 0       | NA      | NA      | NA      |   0     |  4      | 2008    | WD      | Abnorml | 129900  |\n",
       "\n"
      ],
      "text/plain": [
       "  Id MSSubClass MSZoning LotFrontage LotArea Street Alley LotShape LandContour\n",
       "3 3  60         RL       68          11250   Pave   NA    IR1      Lvl        \n",
       "5 5  60         RL       84          14260   Pave   NA    IR1      Lvl        \n",
       "6 6  50         RL       85          14115   Pave   NA    IR1      Lvl        \n",
       "7 7  20         RL       75          10084   Pave   NA    Reg      Lvl        \n",
       "8 8  60         RL       NA          10382   Pave   NA    IR1      Lvl        \n",
       "9 9  50         RM       51           6120   Pave   NA    Reg      Lvl        \n",
       "  Utilities ⋯ PoolArea PoolQC Fence MiscFeature MiscVal MoSold YrSold SaleType\n",
       "3 AllPub    ⋯ 0        NA     NA    NA            0      9     2008   WD      \n",
       "5 AllPub    ⋯ 0        NA     NA    NA            0     12     2008   WD      \n",
       "6 AllPub    ⋯ 0        NA     MnPrv Shed        700     10     2009   WD      \n",
       "7 AllPub    ⋯ 0        NA     NA    NA            0      8     2007   WD      \n",
       "8 AllPub    ⋯ 0        NA     NA    Shed        350     11     2009   WD      \n",
       "9 AllPub    ⋯ 0        NA     NA    NA            0      4     2008   WD      \n",
       "  SaleCondition SalePrice\n",
       "3 Normal        223500   \n",
       "5 Normal        250000   \n",
       "6 Normal        143000   \n",
       "7 Normal        307000   \n",
       "8 Normal        200000   \n",
       "9 Abnorml       129900   "
      ]
     },
     "metadata": {},
     "output_type": "display_data"
    }
   ],
   "source": [
    "summary(df.train)\n",
    "head(df.train)"
   ]
  },
  {
   "cell_type": "markdown",
   "execution_count": null,
   "metadata": {
    "_uuid": "256c2ec919f0699562a3108ae807b336c202dd56"
   },
   "source": [
    "<H2>5. Data prep"
   ]
  },
  {
   "cell_type": "code",
   "execution_count": 5,
   "metadata": {
    "_uuid": "9318f9704945a8d9e74e9ad15154a8839202157d"
   },
   "outputs": [
    {
     "data": {
      "text/html": [
       "<table>\n",
       "<thead><tr><th></th><th scope=col>Id</th><th scope=col>MSSubClass</th><th scope=col>LotFrontage</th><th scope=col>LotArea</th><th scope=col>OverallQual</th><th scope=col>OverallCond</th><th scope=col>YearBuilt</th><th scope=col>YearRemodAdd</th><th scope=col>MasVnrArea</th><th scope=col>BsmtFinSF1</th><th scope=col>⋯</th><th scope=col>GarageType</th><th scope=col>GarageFinish</th><th scope=col>GarageQual</th><th scope=col>GarageCond</th><th scope=col>PavedDrive</th><th scope=col>PoolQC</th><th scope=col>Fence</th><th scope=col>MiscFeature</th><th scope=col>SaleType</th><th scope=col>SaleCondition</th></tr></thead>\n",
       "<tbody>\n",
       "\t<tr><th scope=row>3</th><td>3    </td><td>60   </td><td>68   </td><td>11250</td><td>7    </td><td>5    </td><td>2001 </td><td>2002 </td><td>162  </td><td> 486 </td><td>⋯    </td><td>2    </td><td>2    </td><td>5    </td><td>5    </td><td>3    </td><td>NA   </td><td>NA   </td><td>NA   </td><td>9    </td><td>5    </td></tr>\n",
       "\t<tr><th scope=row>5</th><td>5    </td><td>60   </td><td>84   </td><td>14260</td><td>8    </td><td>5    </td><td>2000 </td><td>2000 </td><td>350  </td><td> 655 </td><td>⋯    </td><td>2    </td><td>2    </td><td>5    </td><td>5    </td><td>3    </td><td>NA   </td><td>NA   </td><td>NA   </td><td>9    </td><td>5    </td></tr>\n",
       "\t<tr><th scope=row>6</th><td>6    </td><td>50   </td><td>85   </td><td>14115</td><td>5    </td><td>5    </td><td>1993 </td><td>1995 </td><td>  0  </td><td> 732 </td><td>⋯    </td><td>2    </td><td>3    </td><td>5    </td><td>5    </td><td>3    </td><td>NA   </td><td> 3   </td><td> 3   </td><td>9    </td><td>5    </td></tr>\n",
       "\t<tr><th scope=row>7</th><td>7    </td><td>20   </td><td>75   </td><td>10084</td><td>8    </td><td>5    </td><td>2004 </td><td>2005 </td><td>186  </td><td>1369 </td><td>⋯    </td><td>2    </td><td>2    </td><td>5    </td><td>5    </td><td>3    </td><td>NA   </td><td>NA   </td><td>NA   </td><td>9    </td><td>5    </td></tr>\n",
       "\t<tr><th scope=row>8</th><td>8    </td><td>60   </td><td>NA   </td><td>10382</td><td>7    </td><td>6    </td><td>1973 </td><td>1973 </td><td>240  </td><td> 859 </td><td>⋯    </td><td>2    </td><td>2    </td><td>5    </td><td>5    </td><td>3    </td><td>NA   </td><td>NA   </td><td> 3   </td><td>9    </td><td>5    </td></tr>\n",
       "\t<tr><th scope=row>9</th><td>9    </td><td>50   </td><td>51   </td><td> 6120</td><td>7    </td><td>5    </td><td>1931 </td><td>1950 </td><td>  0  </td><td>   0 </td><td>⋯    </td><td>6    </td><td>3    </td><td>2    </td><td>5    </td><td>3    </td><td>NA   </td><td>NA   </td><td>NA   </td><td>9    </td><td>1    </td></tr>\n",
       "</tbody>\n",
       "</table>\n"
      ],
      "text/latex": [
       "\\begin{tabular}{r|lllllllllllllllllllllllllllllllllllllllllllllllllllllllllllllllllllllllllllllllll}\n",
       "  & Id & MSSubClass & LotFrontage & LotArea & OverallQual & OverallCond & YearBuilt & YearRemodAdd & MasVnrArea & BsmtFinSF1 & ⋯ & GarageType & GarageFinish & GarageQual & GarageCond & PavedDrive & PoolQC & Fence & MiscFeature & SaleType & SaleCondition\\\\\n",
       "\\hline\n",
       "\t3 & 3     & 60    & 68    & 11250 & 7     & 5     & 2001  & 2002  & 162   &  486  & ⋯     & 2     & 2     & 5     & 5     & 3     & NA    & NA    & NA    & 9     & 5    \\\\\n",
       "\t5 & 5     & 60    & 84    & 14260 & 8     & 5     & 2000  & 2000  & 350   &  655  & ⋯     & 2     & 2     & 5     & 5     & 3     & NA    & NA    & NA    & 9     & 5    \\\\\n",
       "\t6 & 6     & 50    & 85    & 14115 & 5     & 5     & 1993  & 1995  &   0   &  732  & ⋯     & 2     & 3     & 5     & 5     & 3     & NA    &  3    &  3    & 9     & 5    \\\\\n",
       "\t7 & 7     & 20    & 75    & 10084 & 8     & 5     & 2004  & 2005  & 186   & 1369  & ⋯     & 2     & 2     & 5     & 5     & 3     & NA    & NA    & NA    & 9     & 5    \\\\\n",
       "\t8 & 8     & 60    & NA    & 10382 & 7     & 6     & 1973  & 1973  & 240   &  859  & ⋯     & 2     & 2     & 5     & 5     & 3     & NA    & NA    &  3    & 9     & 5    \\\\\n",
       "\t9 & 9     & 50    & 51    &  6120 & 7     & 5     & 1931  & 1950  &   0   &    0  & ⋯     & 6     & 3     & 2     & 5     & 3     & NA    & NA    & NA    & 9     & 1    \\\\\n",
       "\\end{tabular}\n"
      ],
      "text/markdown": [
       "\n",
       "| <!--/--> | Id | MSSubClass | LotFrontage | LotArea | OverallQual | OverallCond | YearBuilt | YearRemodAdd | MasVnrArea | BsmtFinSF1 | ⋯ | GarageType | GarageFinish | GarageQual | GarageCond | PavedDrive | PoolQC | Fence | MiscFeature | SaleType | SaleCondition |\n",
       "|---|---|---|---|---|---|---|---|---|---|---|---|---|---|---|---|---|---|---|---|---|---|\n",
       "| 3 | 3     | 60    | 68    | 11250 | 7     | 5     | 2001  | 2002  | 162   |  486  | ⋯     | 2     | 2     | 5     | 5     | 3     | NA    | NA    | NA    | 9     | 5     |\n",
       "| 5 | 5     | 60    | 84    | 14260 | 8     | 5     | 2000  | 2000  | 350   |  655  | ⋯     | 2     | 2     | 5     | 5     | 3     | NA    | NA    | NA    | 9     | 5     |\n",
       "| 6 | 6     | 50    | 85    | 14115 | 5     | 5     | 1993  | 1995  |   0   |  732  | ⋯     | 2     | 3     | 5     | 5     | 3     | NA    |  3    |  3    | 9     | 5     |\n",
       "| 7 | 7     | 20    | 75    | 10084 | 8     | 5     | 2004  | 2005  | 186   | 1369  | ⋯     | 2     | 2     | 5     | 5     | 3     | NA    | NA    | NA    | 9     | 5     |\n",
       "| 8 | 8     | 60    | NA    | 10382 | 7     | 6     | 1973  | 1973  | 240   |  859  | ⋯     | 2     | 2     | 5     | 5     | 3     | NA    | NA    |  3    | 9     | 5     |\n",
       "| 9 | 9     | 50    | 51    |  6120 | 7     | 5     | 1931  | 1950  |   0   |    0  | ⋯     | 6     | 3     | 2     | 5     | 3     | NA    | NA    | NA    | 9     | 1     |\n",
       "\n"
      ],
      "text/plain": [
       "  Id MSSubClass LotFrontage LotArea OverallQual OverallCond YearBuilt\n",
       "3 3  60         68          11250   7           5           2001     \n",
       "5 5  60         84          14260   8           5           2000     \n",
       "6 6  50         85          14115   5           5           1993     \n",
       "7 7  20         75          10084   8           5           2004     \n",
       "8 8  60         NA          10382   7           6           1973     \n",
       "9 9  50         51           6120   7           5           1931     \n",
       "  YearRemodAdd MasVnrArea BsmtFinSF1 ⋯ GarageType GarageFinish GarageQual\n",
       "3 2002         162         486       ⋯ 2          2            5         \n",
       "5 2000         350         655       ⋯ 2          2            5         \n",
       "6 1995           0         732       ⋯ 2          3            5         \n",
       "7 2005         186        1369       ⋯ 2          2            5         \n",
       "8 1973         240         859       ⋯ 2          2            5         \n",
       "9 1950           0           0       ⋯ 6          3            2         \n",
       "  GarageCond PavedDrive PoolQC Fence MiscFeature SaleType SaleCondition\n",
       "3 5          3          NA     NA    NA          9        5            \n",
       "5 5          3          NA     NA    NA          9        5            \n",
       "6 5          3          NA      3     3          9        5            \n",
       "7 5          3          NA     NA    NA          9        5            \n",
       "8 5          3          NA     NA     3          9        5            \n",
       "9 5          3          NA     NA    NA          9        1            "
      ]
     },
     "metadata": {},
     "output_type": "display_data"
    }
   ],
   "source": [
    "#Encode character features as numeric\n",
    "df.train <- categoricalToNumeric(df.train)\n",
    "df.val <- categoricalToNumeric(df.val)\n",
    "df.test <- categoricalToNumeric(df.test)\n",
    "\n",
    "head(df.train)"
   ]
  },
  {
   "cell_type": "code",
   "execution_count": 6,
   "metadata": {
    "_uuid": "8bc54d123f8eb554a03fb6538c67b49b58cf7c52"
   },
   "outputs": [
    {
     "data": {
      "text/html": [
       "<table>\n",
       "<thead><tr><th></th><th scope=col>Id</th><th scope=col>MSSubClass</th><th scope=col>LotFrontage</th><th scope=col>LotArea</th><th scope=col>OverallQual</th><th scope=col>OverallCond</th><th scope=col>YearBuilt</th><th scope=col>YearRemodAdd</th><th scope=col>MasVnrArea</th><th scope=col>BsmtFinSF1</th><th scope=col>⋯</th><th scope=col>GarageType</th><th scope=col>GarageFinish</th><th scope=col>GarageQual</th><th scope=col>GarageCond</th><th scope=col>PavedDrive</th><th scope=col>PoolQC</th><th scope=col>Fence</th><th scope=col>MiscFeature</th><th scope=col>SaleType</th><th scope=col>SaleCondition</th></tr></thead>\n",
       "<tbody>\n",
       "\t<tr><th scope=row>3</th><td>3    </td><td>60   </td><td>68   </td><td>11250</td><td>7    </td><td>5    </td><td>2001 </td><td>2002 </td><td>162  </td><td> 486 </td><td>⋯    </td><td>2    </td><td>2    </td><td>5    </td><td>5    </td><td>3    </td><td>0    </td><td>0    </td><td>0    </td><td>9    </td><td>5    </td></tr>\n",
       "\t<tr><th scope=row>5</th><td>5    </td><td>60   </td><td>84   </td><td>14260</td><td>8    </td><td>5    </td><td>2000 </td><td>2000 </td><td>350  </td><td> 655 </td><td>⋯    </td><td>2    </td><td>2    </td><td>5    </td><td>5    </td><td>3    </td><td>0    </td><td>0    </td><td>0    </td><td>9    </td><td>5    </td></tr>\n",
       "\t<tr><th scope=row>6</th><td>6    </td><td>50   </td><td>85   </td><td>14115</td><td>5    </td><td>5    </td><td>1993 </td><td>1995 </td><td>  0  </td><td> 732 </td><td>⋯    </td><td>2    </td><td>3    </td><td>5    </td><td>5    </td><td>3    </td><td>0    </td><td>3    </td><td>3    </td><td>9    </td><td>5    </td></tr>\n",
       "\t<tr><th scope=row>7</th><td>7    </td><td>20   </td><td>75   </td><td>10084</td><td>8    </td><td>5    </td><td>2004 </td><td>2005 </td><td>186  </td><td>1369 </td><td>⋯    </td><td>2    </td><td>2    </td><td>5    </td><td>5    </td><td>3    </td><td>0    </td><td>0    </td><td>0    </td><td>9    </td><td>5    </td></tr>\n",
       "\t<tr><th scope=row>8</th><td>8    </td><td>60   </td><td> 0   </td><td>10382</td><td>7    </td><td>6    </td><td>1973 </td><td>1973 </td><td>240  </td><td> 859 </td><td>⋯    </td><td>2    </td><td>2    </td><td>5    </td><td>5    </td><td>3    </td><td>0    </td><td>0    </td><td>3    </td><td>9    </td><td>5    </td></tr>\n",
       "\t<tr><th scope=row>9</th><td>9    </td><td>50   </td><td>51   </td><td> 6120</td><td>7    </td><td>5    </td><td>1931 </td><td>1950 </td><td>  0  </td><td>   0 </td><td>⋯    </td><td>6    </td><td>3    </td><td>2    </td><td>5    </td><td>3    </td><td>0    </td><td>0    </td><td>0    </td><td>9    </td><td>1    </td></tr>\n",
       "</tbody>\n",
       "</table>\n"
      ],
      "text/latex": [
       "\\begin{tabular}{r|lllllllllllllllllllllllllllllllllllllllllllllllllllllllllllllllllllllllllllllllll}\n",
       "  & Id & MSSubClass & LotFrontage & LotArea & OverallQual & OverallCond & YearBuilt & YearRemodAdd & MasVnrArea & BsmtFinSF1 & ⋯ & GarageType & GarageFinish & GarageQual & GarageCond & PavedDrive & PoolQC & Fence & MiscFeature & SaleType & SaleCondition\\\\\n",
       "\\hline\n",
       "\t3 & 3     & 60    & 68    & 11250 & 7     & 5     & 2001  & 2002  & 162   &  486  & ⋯     & 2     & 2     & 5     & 5     & 3     & 0     & 0     & 0     & 9     & 5    \\\\\n",
       "\t5 & 5     & 60    & 84    & 14260 & 8     & 5     & 2000  & 2000  & 350   &  655  & ⋯     & 2     & 2     & 5     & 5     & 3     & 0     & 0     & 0     & 9     & 5    \\\\\n",
       "\t6 & 6     & 50    & 85    & 14115 & 5     & 5     & 1993  & 1995  &   0   &  732  & ⋯     & 2     & 3     & 5     & 5     & 3     & 0     & 3     & 3     & 9     & 5    \\\\\n",
       "\t7 & 7     & 20    & 75    & 10084 & 8     & 5     & 2004  & 2005  & 186   & 1369  & ⋯     & 2     & 2     & 5     & 5     & 3     & 0     & 0     & 0     & 9     & 5    \\\\\n",
       "\t8 & 8     & 60    &  0    & 10382 & 7     & 6     & 1973  & 1973  & 240   &  859  & ⋯     & 2     & 2     & 5     & 5     & 3     & 0     & 0     & 3     & 9     & 5    \\\\\n",
       "\t9 & 9     & 50    & 51    &  6120 & 7     & 5     & 1931  & 1950  &   0   &    0  & ⋯     & 6     & 3     & 2     & 5     & 3     & 0     & 0     & 0     & 9     & 1    \\\\\n",
       "\\end{tabular}\n"
      ],
      "text/markdown": [
       "\n",
       "| <!--/--> | Id | MSSubClass | LotFrontage | LotArea | OverallQual | OverallCond | YearBuilt | YearRemodAdd | MasVnrArea | BsmtFinSF1 | ⋯ | GarageType | GarageFinish | GarageQual | GarageCond | PavedDrive | PoolQC | Fence | MiscFeature | SaleType | SaleCondition |\n",
       "|---|---|---|---|---|---|---|---|---|---|---|---|---|---|---|---|---|---|---|---|---|---|\n",
       "| 3 | 3     | 60    | 68    | 11250 | 7     | 5     | 2001  | 2002  | 162   |  486  | ⋯     | 2     | 2     | 5     | 5     | 3     | 0     | 0     | 0     | 9     | 5     |\n",
       "| 5 | 5     | 60    | 84    | 14260 | 8     | 5     | 2000  | 2000  | 350   |  655  | ⋯     | 2     | 2     | 5     | 5     | 3     | 0     | 0     | 0     | 9     | 5     |\n",
       "| 6 | 6     | 50    | 85    | 14115 | 5     | 5     | 1993  | 1995  |   0   |  732  | ⋯     | 2     | 3     | 5     | 5     | 3     | 0     | 3     | 3     | 9     | 5     |\n",
       "| 7 | 7     | 20    | 75    | 10084 | 8     | 5     | 2004  | 2005  | 186   | 1369  | ⋯     | 2     | 2     | 5     | 5     | 3     | 0     | 0     | 0     | 9     | 5     |\n",
       "| 8 | 8     | 60    |  0    | 10382 | 7     | 6     | 1973  | 1973  | 240   |  859  | ⋯     | 2     | 2     | 5     | 5     | 3     | 0     | 0     | 3     | 9     | 5     |\n",
       "| 9 | 9     | 50    | 51    |  6120 | 7     | 5     | 1931  | 1950  |   0   |    0  | ⋯     | 6     | 3     | 2     | 5     | 3     | 0     | 0     | 0     | 9     | 1     |\n",
       "\n"
      ],
      "text/plain": [
       "  Id MSSubClass LotFrontage LotArea OverallQual OverallCond YearBuilt\n",
       "3 3  60         68          11250   7           5           2001     \n",
       "5 5  60         84          14260   8           5           2000     \n",
       "6 6  50         85          14115   5           5           1993     \n",
       "7 7  20         75          10084   8           5           2004     \n",
       "8 8  60          0          10382   7           6           1973     \n",
       "9 9  50         51           6120   7           5           1931     \n",
       "  YearRemodAdd MasVnrArea BsmtFinSF1 ⋯ GarageType GarageFinish GarageQual\n",
       "3 2002         162         486       ⋯ 2          2            5         \n",
       "5 2000         350         655       ⋯ 2          2            5         \n",
       "6 1995           0         732       ⋯ 2          3            5         \n",
       "7 2005         186        1369       ⋯ 2          2            5         \n",
       "8 1973         240         859       ⋯ 2          2            5         \n",
       "9 1950           0           0       ⋯ 6          3            2         \n",
       "  GarageCond PavedDrive PoolQC Fence MiscFeature SaleType SaleCondition\n",
       "3 5          3          0      0     0           9        5            \n",
       "5 5          3          0      0     0           9        5            \n",
       "6 5          3          0      3     3           9        5            \n",
       "7 5          3          0      0     0           9        5            \n",
       "8 5          3          0      0     3           9        5            \n",
       "9 5          3          0      0     0           9        1            "
      ]
     },
     "metadata": {},
     "output_type": "display_data"
    }
   ],
   "source": [
    "#Set NA's to 0\n",
    "df.train[is.na(df.train)] <- 0\n",
    "df.val[is.na(df.val)] <- 0\n",
    "df.test[is.na(df.test)] <- 0\n",
    "\n",
    "head(df.train)"
   ]
  },
  {
   "cell_type": "markdown",
   "execution_count": null,
   "metadata": {
    "_uuid": "242f4cf2b98530f0f802cab9abb570c139ccf5b9"
   },
   "source": [
    "<H2>6. Model fit and Predict</H2>\n",
    "Fit on significant features"
   ]
  },
  {
   "cell_type": "code",
   "execution_count": 7,
   "metadata": {
    "_uuid": "b662b64040f1549c03480860cb962c9eeee42294"
   },
   "outputs": [
    {
     "name": "stderr",
     "output_type": "stream",
     "text": [
      "Warning message in col.names != c(\"Id\", \"SalePrice\"):\n",
      "“longer object length is not a multiple of shorter object length”Warning message in predict.lm(model, df.val):\n",
      "“prediction from a rank-deficient fit may be misleading”"
     ]
    }
   ],
   "source": [
    "#Formula(remove Id)\n",
    "col.names <- colnames(df.train)\n",
    "col.names <- col.names[col.names != c('Id','SalePrice')]\n",
    "fmla <- as.formula(paste(\"SalePrice ~ \", paste(col.names, collapse= \"+\")))\n",
    "\n",
    "#Model\n",
    "model = lm(formula = fmla, data = df.train)\n",
    "model.predict <- predict(model,df.val)"
   ]
  },
  {
   "cell_type": "markdown",
   "execution_count": null,
   "metadata": {
    "_uuid": "a8008bc9b559543de4b0bfc0bcc6b0bd4bdd711b"
   },
   "source": [
    "<H2>7. RMSE (root mean squared error)"
   ]
  },
  {
   "cell_type": "code",
   "execution_count": 8,
   "metadata": {
    "_uuid": "202cbc79de5bb8cc5c9fe33a8c80e4de6a16768a"
   },
   "outputs": [
    {
     "data": {
      "text/html": [
       "<span style=white-space:pre-wrap>'RMSE:  0.15046'</span>"
      ],
      "text/latex": [
       "'RMSE:  0.15046'"
      ],
      "text/markdown": [
       "<span style=white-space:pre-wrap>'RMSE:  0.15046'</span>"
      ],
      "text/plain": [
       "[1] \"RMSE:  0.15046\""
      ]
     },
     "metadata": {},
     "output_type": "display_data"
    }
   ],
   "source": [
    "rmse <- RMSE(df.val$SalePrice, model.predict)\n",
    "paste('RMSE: ',rmse)"
   ]
  },
  {
   "cell_type": "markdown",
   "execution_count": null,
   "metadata": {
    "_uuid": "82e2a184849c46184b2902e9d2895924c2b94534"
   },
   "source": [
    "<H3>7.1 Predict vs Actual"
   ]
  },
  {
   "cell_type": "code",
   "execution_count": 9,
   "metadata": {
    "_uuid": "08d2d0a6d3c5cc3f633f9d9ac47402d1a08c3af6"
   },
   "outputs": [
    {
     "data": {
      "image/png": "[encoded data removed]"
     },
     "metadata": {},
     "output_type": "display_data"
    }
   ],
   "source": [
    "ggplot(df.val,aes(x=model.predict,y=SalePrice))+\n",
    "  geom_point(size=1 , color = \"steelblue\")+\n",
    "  geom_smooth(method = \"loess\", color=\"darkred\")+\n",
    "  labs(x=\"Predicted\", y=\"Actual\")+\n",
    "  theme(plot.margin = unit(c(2,2,2,2), \"cm\"))"
   ]
  },
  {
   "cell_type": "markdown",
   "execution_count": null,
   "metadata": {
    "_uuid": "e5313ae61a8ce647d68482dcc57b3e95a571a1bc"
   },
   "source": [
    "<H2>8. Create submission file"
   ]
  },
  {
   "cell_type": "code",
   "execution_count": 10,
   "metadata": {
    "_uuid": "51d4c321330aa7b737fe19dc343f66c4c4f6c361"
   },
   "outputs": [
    {
     "name": "stderr",
     "output_type": "stream",
     "text": [
      "Warning message in predict.lm(model, df.test):\n",
      "“prediction from a rank-deficient fit may be misleading”"
     ]
    },
    {
     "data": {
      "text/html": [
       "<table>\n",
       "<thead><tr><th scope=col>Id</th><th scope=col>SalePrice</th></tr></thead>\n",
       "<tbody>\n",
       "\t<tr><td>1461    </td><td>112772.2</td></tr>\n",
       "\t<tr><td>1462    </td><td>153308.1</td></tr>\n",
       "\t<tr><td>1463    </td><td>166980.1</td></tr>\n",
       "\t<tr><td>1464    </td><td>187903.1</td></tr>\n",
       "\t<tr><td>1465    </td><td>189939.2</td></tr>\n",
       "\t<tr><td>1466    </td><td>171617.3</td></tr>\n",
       "</tbody>\n",
       "</table>\n"
      ],
      "text/latex": [
       "\\begin{tabular}{r|ll}\n",
       " Id & SalePrice\\\\\n",
       "\\hline\n",
       "\t 1461     & 112772.2\\\\\n",
       "\t 1462     & 153308.1\\\\\n",
       "\t 1463     & 166980.1\\\\\n",
       "\t 1464     & 187903.1\\\\\n",
       "\t 1465     & 189939.2\\\\\n",
       "\t 1466     & 171617.3\\\\\n",
       "\\end{tabular}\n"
      ],
      "text/markdown": [
       "\n",
       "| Id | SalePrice |\n",
       "|---|---|\n",
       "| 1461     | 112772.2 |\n",
       "| 1462     | 153308.1 |\n",
       "| 1463     | 166980.1 |\n",
       "| 1464     | 187903.1 |\n",
       "| 1465     | 189939.2 |\n",
       "| 1466     | 171617.3 |\n",
       "\n"
      ],
      "text/plain": [
       "  Id   SalePrice\n",
       "1 1461 112772.2 \n",
       "2 1462 153308.1 \n",
       "3 1463 166980.1 \n",
       "4 1464 187903.1 \n",
       "5 1465 189939.2 \n",
       "6 1466 171617.3 "
      ]
     },
     "metadata": {},
     "output_type": "display_data"
    }
   ],
   "source": [
    "predict.Test <- predict(model,df.test)\n",
    "df.predict.Test <- df.test[1]\n",
    "df.predict.Test$SalePrice <- predict.Test\n",
    "\n",
    "head(df.predict.Test)\n",
    "\n",
    "write.csv(df.predict.Test, file = 'submission.csv', row.names=FALSE)"
   ]
  },
  {
   "cell_type": "markdown",
   "execution_count": null,
   "metadata": {
    "_uuid": "1ea020ac559611c3187e1baa48d80551503a0ba5"
   },
   "source": []
  }
 ],
 "metadata": {
  "kernelspec": {
   "display_name": "R",
   "language": "R",
   "name": "ir"
  },
  "language_info": {
   "codemirror_mode": "r",
   "file_extension": ".r",
   "mimetype": "text/x-r-source",
   "name": "R",
   "pygments_lexer": "r",
   "version": "3.4.2"
  }
 },
 "nbformat": 4,
 "nbformat_minor": 4
}
