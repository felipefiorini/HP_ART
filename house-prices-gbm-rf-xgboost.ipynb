{
 "cells": [
  {
   "cell_type": "markdown",
   "execution_count": null,
   "metadata": {
    "_uuid": "b141f0ef7f709f29721d77a1653105fef460af40"
   },
   "source": [
    "<h1><b>House Prices: Advanced Regression Techniques</b></h1>\n",
    "<br>Predict sales prices and practice feature engineering, RFs, and gradient boosting\n",
    "<br>https://www.kaggle.com/c/house-prices-advanced-regression-techniques\n",
    "\n",
    "**Models:**\n",
    "<br>Linear model\n",
    "<br>Gradient boosting model\n",
    "<br>Random Forests\n",
    "<br>XGBoost \n"
   ]
  },
  {
   "cell_type": "markdown",
   "execution_count": null,
   "metadata": {
    "_uuid": "133fb0ba291fb9a8310ab9c138b6b2c0a8117cb6"
   },
   "source": [
    "<H1>1. Importing packages"
   ]
  },
  {
   "cell_type": "code",
   "execution_count": 1,
   "metadata": {
    "_execution_state": "idle",
    "_uuid": "98e131970e4701df1774cffb00226e91503325a2"
   },
   "outputs": [
    {
     "name": "stderr",
     "output_type": "stream",
     "text": [
      "── \u001b[1mAttaching packages\u001b[22m ─────────────────────────────────────── tidyverse 1.2.1 ──\n",
      "\u001b[32m✔\u001b[39m \u001b[34mggplot2\u001b[39m 3.1.1.\u001b[31m9000\u001b[39m     \u001b[32m✔\u001b[39m \u001b[34mpurrr  \u001b[39m 0.3.2     \n",
      "\u001b[32m✔\u001b[39m \u001b[34mtibble \u001b[39m 2.1.1          \u001b[32m✔\u001b[39m \u001b[34mdplyr  \u001b[39m 0.8.1     \n",
      "\u001b[32m✔\u001b[39m \u001b[34mtidyr  \u001b[39m 0.8.3          \u001b[32m✔\u001b[39m \u001b[34mstringr\u001b[39m 1.4.0     \n",
      "\u001b[32m✔\u001b[39m \u001b[34mreadr  \u001b[39m 1.3.1          \u001b[32m✔\u001b[39m \u001b[34mforcats\u001b[39m 0.4.0     \n",
      "── \u001b[1mConflicts\u001b[22m ────────────────────────────────────────── tidyverse_conflicts() ──\n",
      "\u001b[31m✖\u001b[39m \u001b[34mdplyr\u001b[39m::\u001b[32mfilter()\u001b[39m masks \u001b[34mstats\u001b[39m::filter()\n",
      "\u001b[31m✖\u001b[39m \u001b[34mdplyr\u001b[39m::\u001b[32mlag()\u001b[39m    masks \u001b[34mstats\u001b[39m::lag()\n",
      "corrplot 0.84 loaded\n",
      "Loading required package: magrittr\n",
      "\n",
      "Attaching package: ‘magrittr’\n",
      "\n",
      "The following object is masked from ‘package:purrr’:\n",
      "\n",
      "    set_names\n",
      "\n",
      "The following object is masked from ‘package:tidyr’:\n",
      "\n",
      "    extract\n",
      "\n",
      "Loaded gbm 2.1.5\n",
      "randomForest 4.6-14\n",
      "Type rfNews() to see new features/changes/bug fixes.\n",
      "\n",
      "Attaching package: ‘randomForest’\n",
      "\n",
      "The following object is masked from ‘package:dplyr’:\n",
      "\n",
      "    combine\n",
      "\n",
      "The following object is masked from ‘package:ggplot2’:\n",
      "\n",
      "    margin\n",
      "\n",
      "\n",
      "Attaching package: ‘data.table’\n",
      "\n",
      "The following objects are masked from ‘package:dplyr’:\n",
      "\n",
      "    between, first, last\n",
      "\n",
      "The following object is masked from ‘package:purrr’:\n",
      "\n",
      "    transpose\n",
      "\n",
      "\n",
      "Attaching package: ‘xgboost’\n",
      "\n",
      "The following object is masked from ‘package:dplyr’:\n",
      "\n",
      "    slice\n",
      "\n",
      "Loading required package: lattice\n",
      "\n",
      "Attaching package: ‘caret’\n",
      "\n",
      "The following object is masked from ‘package:purrr’:\n",
      "\n",
      "    lift\n",
      "\n",
      "The following object is masked from ‘package:httr’:\n",
      "\n",
      "    progress\n",
      "\n"
     ]
    }
   ],
   "source": [
    "## Importing packages\n",
    "library(tidyverse) # metapackage with lots of helpful functions\n",
    "\n",
    "library(corrplot)\n",
    "library(ggplot2)\n",
    "library(ggpubr)\n",
    "library(gbm)\n",
    "library(randomForest)\n",
    "library(data.table)\n",
    "library(xgboost)\n",
    "library(caret)"
   ]
  },
  {
   "cell_type": "markdown",
   "execution_count": null,
   "metadata": {
    "_uuid": "43d4077c780d7cbbcf822b4e5bfcae04eb28908b"
   },
   "source": [
    "<h2>1.1 Definitions"
   ]
  },
  {
   "cell_type": "code",
   "execution_count": 2,
   "metadata": {
    "_uuid": "6642325a63a05af5cb263e1fb28c8b03ff1ebeac"
   },
   "outputs": [],
   "source": [
    "# Evaluation metric function\n",
    "RMSE <- function(x,y){\n",
    "    a <- round(sqrt(sum((log(x)-log(y))^2)/length(y)),5)\n",
    "    return(a)\n",
    "}\n",
    "\n",
    "#Find outliers\n",
    "findOutlier <- function(data, cutoff = 8) {\n",
    "    #Calculate the sd\n",
    "    sds <- apply(data, 2, sd, na.rm = TRUE)\n",
    "    # Identify the cells with value greater than cutoff * sd (column wise)\n",
    "    result <- mapply(function(d, s) {\n",
    "        which(d > cutoff * s)\n",
    "    }, data, sds)\n",
    "    result\n",
    "}\n",
    "\n",
    "#Remove outliers\n",
    "removeOutlier <- function(data, outliers) {\n",
    "    result <- mapply(function(d, o) {\n",
    "        res <- d\n",
    "        res[o] <- NA\n",
    "        return(res)\n",
    "    }, data, outliers)\n",
    "    return(as.data.frame(result))\n",
    "}\n",
    "\n",
    "#Convert categorical variable to numeric\n",
    "categoricalToNumeric <- function(data){\n",
    "    must.convert <- sapply(data ,is.factor)        #variable needs to be displayed as numeric    \n",
    "    data.aux<-sapply(data[,must.convert],unclass)  #data.frame of all categorical variables to convert   \n",
    "    data.out<-cbind(data[,!must.convert],data.aux) #complete data.frame with all variables    \n",
    "    return(data.out)    \n",
    "}"
   ]
  },
  {
   "cell_type": "markdown",
   "execution_count": null,
   "metadata": {
    "_uuid": "214fde2c2cd22086649029c4b15a216e3350aa71"
   },
   "source": [
    "<h1>2. Importing Data"
   ]
  },
  {
   "cell_type": "code",
   "execution_count": 3,
   "metadata": {
    "_uuid": "d77054cfb666e0d7ecb6d212f3c69e76dbe39af0",
    "scrolled": false
   },
   "outputs": [
    {
     "data": {
      "text/html": [
       "<span style=white-space:pre-wrap>'Length Training Set:  1247 | Length Validation Set:  213 | Length Test Set:  1459'</span>"
      ],
      "text/latex": [
       "'Length Training Set:  1247 \\textbar{} Length Validation Set:  213 \\textbar{} Length Test Set:  1459'"
      ],
      "text/markdown": [
       "<span style=white-space:pre-wrap>'Length Training Set:  1247 | Length Validation Set:  213 | Length Test Set:  1459'</span>"
      ],
      "text/plain": [
       "[1] \"Length Training Set:  1247 | Length Validation Set:  213 | Length Test Set:  1459\""
      ]
     },
     "metadata": {},
     "output_type": "display_data"
    }
   ],
   "source": [
    "df.data <- read.csv('../input/train.csv')\n",
    "df.test <- read.csv('../input/test.csv')\n",
    "\n",
    "# Set seed so the train/test split is reproducible\n",
    "set.seed(42)\n",
    "\n",
    "df.train.split <- sample(2\n",
    "                        , nrow(df.data)\n",
    "                        , replace = TRUE\n",
    "                        , prob = c(0.85, 0.15))\n",
    "df.train = df.data[df.train.split == 1,]\n",
    "df.val   = df.data[df.train.split == 2,]\n",
    "\n",
    "paste('Length Training Set: ',nrow(df.train),'| Length Validation Set: ',nrow(df.val),'| Length Test Set: ',nrow(df.test))"
   ]
  },
  {
   "cell_type": "markdown",
   "execution_count": null,
   "metadata": {
    "_uuid": "0675f1f71056902785590a2bf0a689f07956244f"
   },
   "source": [
    "<h2>2.1 Data prep"
   ]
  },
  {
   "cell_type": "code",
   "execution_count": 4,
   "metadata": {
    "_uuid": "d4ea7ea660e30c1524b7fa87f9cbee007d55f7cf"
   },
   "outputs": [],
   "source": [
    "#Encode character features as numeric\n",
    "df.train <- categoricalToNumeric(df.train)\n",
    "df.val <- categoricalToNumeric(df.val)\n",
    "df.test <- categoricalToNumeric(df.test)\n",
    "\n",
    "#Set NA's to 0\n",
    "df.train[is.na(df.train)] <- 0\n",
    "df.val[is.na(df.val)]     <- 0\n",
    "df.test[is.na(df.test)]   <- 0"
   ]
  },
  {
   "cell_type": "markdown",
   "execution_count": null,
   "metadata": {
    "_uuid": "f6e2697b39cbeac01eab8e30f878821e2cdbc5f8"
   },
   "source": [
    "<h2>2.2 Feature Engineering"
   ]
  },
  {
   "cell_type": "code",
   "execution_count": 5,
   "metadata": {
    "_uuid": "769e69f273a9c4829b72a6cf1723d7bcafb44a50"
   },
   "outputs": [],
   "source": [
    "df.train$remodeled <- ifelse(df.train$YearRemodAdd - df.train$YearBuilt > 0, 1, 0)\n",
    "df.val$remodeled   <- ifelse(df.val$YearRemodAdd   - df.val$YearBuilt   > 0, 1, 0)\n",
    "df.test$remodeled  <- ifelse(df.test$YearRemodAdd  - df.test$YearBuilt  > 0, 1, 0)\n",
    "\n",
    "#Total age\n",
    "df.train$age <- ifelse(df.train$YearRemodAdd - df.train$YearBuilt > 0, df.train$YrSold - df.train$YearRemodAdd, df.train$YrSold - df.train$YearBuilt)\n",
    "df.val$age   <- ifelse(df.val$YearRemodAdd   - df.val$YearBuilt   > 0, df.val$YrSold   - df.val$YearRemodAdd, df.val$YrSold     - df.val$YearBuilt)\n",
    "df.test$age  <- ifelse(df.test$YearRemodAdd  - df.test$YearBuilt  > 0, df.test$YrSold  - df.test$YearRemodAdd, df.test$YrSold   - df.test$YearBuilt)\n",
    "\n",
    "#Garage age\n",
    "df.train$garage_age <- df.train$YrSold - df.train$GarageYrBlt\n",
    "df.val$garage_age   <- df.val$YrSold   - df.val$GarageYrBlt\n",
    "df.test$garage_age  <- df.test$YrSold  - df.test$GarageYrBlt\n",
    "\n",
    "#Aggregating the areas of both floors\n",
    "df.train$space <-  df.train$X2ndFlrSF + df.train$X1stFlrSF\n",
    "df.val$space   <-  df.val$X2ndFlrSF   + df.val$X1stFlrSF\n",
    "df.test$space  <-  df.test$X2ndFlrSF  + df.test$X1stFlrSF\n",
    "\n",
    "# Relation bettween 1st and 2nd floor\n",
    "df.train$sec <- df.train$X2ndFlrSF / df.train$X1stFlrSF\n",
    "df.val$sec   <- df.val$X2ndFlrSF   / df.val$X1stFlrSF\n",
    "df.test$sec  <- df.test$X2ndFlrSF  / df.test$X1stFlrSF\n",
    "\n",
    "#Total number of bathrooms\n",
    "df.train$totbath <- df.train$FullBath + df.train$HalfBath + df.train$BsmtFullBath + df.train$BsmtHalfBath\n",
    "df.val$totbath   <- df.val$FullBath   + df.val$HalfBath   + df.val$BsmtFullBath   + df.val$BsmtHalfBath\n",
    "df.test$totbath  <- df.test$FullBath  + df.test$HalfBath  + df.test$BsmtFullBath  + df.test$BsmtHalfBath\n",
    "\n",
    "#Relation bettween the number of bathrooms and rooms\n",
    "df.train$bathRoomRel <-  df.train$TotRmsAbvGrd / df.train$totbath\n",
    "df.val$bathRoomRel   <-  df.val$TotRmsAbvGrd   / df.val$totbath\n",
    "df.test$bathRoomRel  <-  df.test$TotRmsAbvGrd  / df.test$totbath"
   ]
  },
  {
   "cell_type": "markdown",
   "execution_count": null,
   "metadata": {
    "_uuid": "3304e640d3a475d0e5ef96135c378c0a6b0d816b"
   },
   "source": [
    "<h1>3. Model fit and predict\n"
   ]
  },
  {
   "cell_type": "markdown",
   "execution_count": null,
   "metadata": {
    "_uuid": "eefafcd6e46c1a58b3e4cf9034ced9e2275bced0"
   },
   "source": [
    "<h2>3.1 Formula with significant features"
   ]
  },
  {
   "cell_type": "code",
   "execution_count": 6,
   "metadata": {
    "_uuid": "5fa1323ce78a22672bbe496e845c553d9680af57"
   },
   "outputs": [],
   "source": [
    "#Remove Id\n",
    "col.names <- colnames(df.train)\n",
    "col.names <- col.names[col.names != c('Id','SalePrice')]\n",
    "\n",
    "#Formula\n",
    "fmla <- as.formula(paste(\"SalePrice ~ \", paste(col.names, collapse= \"+\")))"
   ]
  },
  {
   "cell_type": "markdown",
   "execution_count": null,
   "metadata": {
    "_uuid": "26ac878df95d26ab38c6d82e90769c553fbc2df2"
   },
   "source": [
    "<h2>3.2 Linear (base line)"
   ]
  },
  {
   "cell_type": "code",
   "execution_count": 7,
   "metadata": {
    "_uuid": "9318f9704945a8d9e74e9ad15154a8839202157d"
   },
   "outputs": [
    {
     "name": "stderr",
     "output_type": "stream",
     "text": [
      "Warning message in predict.lm(model.BaseLine, df.val):\n",
      "“prediction from a rank-deficient fit may be misleading”"
     ]
    },
    {
     "data": {
      "text/html": [
       "<span style=white-space:pre-wrap>'Base line RMSE:  0.14631'</span>"
      ],
      "text/latex": [
       "'Base line RMSE:  0.14631'"
      ],
      "text/markdown": [
       "<span style=white-space:pre-wrap>'Base line RMSE:  0.14631'</span>"
      ],
      "text/plain": [
       "[1] \"Base line RMSE:  0.14631\""
      ]
     },
     "metadata": {},
     "output_type": "display_data"
    }
   ],
   "source": [
    "#Model fit and Predict\n",
    "model.BaseLine = lm(formula = fmla, data = df.train)\n",
    "predict.BaseLine <- predict(model.BaseLine,df.val)\n",
    "\n",
    "#RMSE(root mean squared error)\n",
    "rmse.BaseLine <- RMSE(df.val$SalePrice, predict.BaseLine)\n",
    "paste('Base line RMSE: ',rmse.BaseLine)"
   ]
  },
  {
   "cell_type": "markdown",
   "execution_count": null,
   "metadata": {
    "_uuid": "5babdca0fa0f77ae1e0b7ffff3a6472ee0b9027b"
   },
   "source": [
    "<h2>3.3 Gradient Boosting"
   ]
  },
  {
   "cell_type": "code",
   "execution_count": 8,
   "metadata": {
    "_uuid": "7bcd0f7cc7c5bbd0082535a900faaab997abc8aa"
   },
   "outputs": [
    {
     "data": {
      "text/html": [
       "<span style=white-space:pre-wrap>'Gradient Boostgin RMSE:  0.11847'</span>"
      ],
      "text/latex": [
       "'Gradient Boostgin RMSE:  0.11847'"
      ],
      "text/markdown": [
       "<span style=white-space:pre-wrap>'Gradient Boostgin RMSE:  0.11847'</span>"
      ],
      "text/plain": [
       "[1] \"Gradient Boostgin RMSE:  0.11847\""
      ]
     },
     "metadata": {},
     "output_type": "display_data"
    }
   ],
   "source": [
    "#Model fit and Predict\n",
    "model.gbm <- gbm(formula = fmla, data = df.train, distribution = \"laplace\",\n",
    "              shrinkage = 0.05,\n",
    "              interaction.depth = 6,\n",
    "              bag.fraction = 0.66,\n",
    "              n.minobsinnode = 1,\n",
    "              cv.folds = 100,\n",
    "              keep.data = F,\n",
    "              verbose = F,\n",
    "              n.trees = 300)\n",
    "predict.gbm <- predict(model.gbm, df.val, n.trees = 300)\n",
    "\n",
    "#RMSE(root mean squared error)\n",
    "rmse.gbm <- RMSE(df.val$SalePrice, predict.gbm)\n",
    "paste('Gradient Boostgin RMSE: ',rmse.gbm)"
   ]
  },
  {
   "cell_type": "markdown",
   "execution_count": null,
   "metadata": {
    "_uuid": "d9d8b46ee9835649ac51187a2eae5ea9ba57ebfc"
   },
   "source": [
    "<h2>3.4 Random Forests"
   ]
  },
  {
   "cell_type": "code",
   "execution_count": 9,
   "metadata": {
    "_uuid": "edbdb884221f399e6678896f96399467106a91f8"
   },
   "outputs": [
    {
     "data": {
      "text/html": [
       "<span style=white-space:pre-wrap>'Random Forest RMSE:  0.1382'</span>"
      ],
      "text/latex": [
       "'Random Forest RMSE:  0.1382'"
      ],
      "text/markdown": [
       "<span style=white-space:pre-wrap>'Random Forest RMSE:  0.1382'</span>"
      ],
      "text/plain": [
       "[1] \"Random Forest RMSE:  0.1382\""
      ]
     },
     "metadata": {},
     "output_type": "display_data"
    }
   ],
   "source": [
    "model.rf <- randomForest(formula = fmla, data = df.train, method = \"anova\",\n",
    "                      ntree = 300,\n",
    "                      mtry = 26,\n",
    "                      replace = F,\n",
    "                      nodesize = 1,\n",
    "                      importance = T)\n",
    "predict.rf <- predict(model.rf, df.val)\n",
    "\n",
    "#RMSE(root mean squared error)\n",
    "rmse.rf <- RMSE(df.val$SalePrice, predict.rf)\n",
    "paste('Random Forest RMSE: ',rmse.rf)"
   ]
  },
  {
   "cell_type": "markdown",
   "execution_count": null,
   "metadata": {
    "_uuid": "6972e4e87460d89ce921db86ac833b83aa148afa"
   },
   "source": [
    "<h2>3.5 XGBoost"
   ]
  },
  {
   "cell_type": "code",
   "execution_count": 10,
   "metadata": {
    "_uuid": "c106d0d21e2f4c8edee5ff1c3174010da96da03d",
    "scrolled": true
   },
   "outputs": [
    {
     "data": {
      "text/plain": [
       "eXtreme Gradient Boosting \n",
       "\n",
       "1247 samples\n",
       "  86 predictor\n",
       "\n",
       "No pre-processing\n",
       "Resampling: Cross-Validated (7 fold) \n",
       "Summary of sample sizes: 1068, 1068, 1069, 1070, 1069, 1068, ... \n",
       "Resampling results:\n",
       "\n",
       "  RMSE      Rsquared   MAE     \n",
       "  27768.95  0.8787271  15635.16\n",
       "\n",
       "Tuning parameter 'nrounds' was held constant at a value of 400\n",
       "Tuning\n",
       " held constant at a value of 0\n",
       "Tuning parameter 'subsample' was held\n",
       " constant at a value of 0.5"
      ]
     },
     "metadata": {},
     "output_type": "display_data"
    }
   ],
   "source": [
    "#Training with xgboost - gives better scores than 'rf'\n",
    "trn.control <- trainControl(method = \"cv\", number = 7)\n",
    "\n",
    "#Explore different hyperparameter values\n",
    "#tune.grid <- expand.grid(nrounds=c(100,200,300,400), \n",
    "#                         max_depth = c(2:10),\n",
    "#                         eta = c(0.01, 0.02, 0.05, 0.5),\n",
    "#                         gamma = c(0.01),\n",
    "#                         colsample_bytree = c(0.75),\n",
    "#                         subsample = c(0.50),\n",
    "#                         min_child_weight = c(0))\n",
    "\n",
    "\n",
    "tune.grid <- expand.grid(nrounds = 400,\n",
    "                        max_depth = 4,\n",
    "                        eta = 0.05,\n",
    "                        gamma = 0.01,\n",
    "                        colsample_bytree = 0.75,\n",
    "                        min_child_weight = 0,\n",
    "                        subsample = 0.5)\n",
    "\n",
    "model.xgb <- train(SalePrice ~., data = df.train[-1], method = \"xgbTree\",\n",
    "                trControl=trn.control,\n",
    "                tuneGrid = tune.grid,\n",
    "                tuneLength = 10)\n",
    "\n",
    "model.xgb"
   ]
  },
  {
   "cell_type": "code",
   "execution_count": 11,
   "metadata": {
    "_uuid": "f8039fc3dc6a6a65249ce5eee4c03cdd3937e2b7"
   },
   "outputs": [
    {
     "data": {
      "text/html": [
       "<span style=white-space:pre-wrap>'XGBoost RMSE:  0.11601'</span>"
      ],
      "text/latex": [
       "'XGBoost RMSE:  0.11601'"
      ],
      "text/markdown": [
       "<span style=white-space:pre-wrap>'XGBoost RMSE:  0.11601'</span>"
      ],
      "text/plain": [
       "[1] \"XGBoost RMSE:  0.11601\""
      ]
     },
     "metadata": {},
     "output_type": "display_data"
    }
   ],
   "source": [
    "predict.xgb <- predict(model.xgb, df.val[-1])\n",
    "\n",
    "#RMSE(root mean squared error)\n",
    "rmse.xgb <- RMSE(df.val$SalePrice, predict.xgb)\n",
    "paste('XGBoost RMSE: ',rmse.xgb)"
   ]
  },
  {
   "cell_type": "markdown",
   "execution_count": null,
   "metadata": {
    "_uuid": "ca62e71a0c424d88e6ba0136aab547a0f2a86e0a"
   },
   "source": [
    "<h1>4. Evaluate Model"
   ]
  },
  {
   "cell_type": "code",
   "execution_count": 12,
   "metadata": {
    "_uuid": "f5fc47764debbc23e6b0937b4ac0ca0c91edd1f5"
   },
   "outputs": [
    {
     "data": {
      "image/png": "[encoded data removed]"
     },
     "metadata": {},
     "output_type": "display_data"
    }
   ],
   "source": [
    "df.rmse <- data.frame(\"Model\" = c(\"Base line\",\"Gradient Boosting\", \"Random Forest\", \"XGBoost\"),\n",
    "                     \"RMSE\" = c(rmse.BaseLine, rmse.gbm, rmse.rf, rmse.xgb))\n",
    "\n",
    " ggplot(df.rmse, aes(x = reorder(Model,RMSE), y = RMSE)) +\n",
    "    geom_text(aes(label=RMSE), vjust=-0.3, size=3.5) + \n",
    "    theme_minimal() + \n",
    "    geom_bar(aes(fill = Model), stat=\"identity\") +\n",
    "    ggtitle(\"RMSE by model\") + xlab(\"\")"
   ]
  },
  {
   "cell_type": "code",
   "execution_count": 13,
   "metadata": {
    "_uuid": "eef873fe685b665dd97728cff2490b0062bec43f"
   },
   "outputs": [
    {
     "data": {
      "image/png": "[encoded data removed]"
     },
     "metadata": {},
     "output_type": "display_data"
    }
   ],
   "source": [
    "model.best   <- model.xgb\n",
    "predict.best <- predict.xgb\n",
    "\n",
    "ggplot(df.val,aes(x=predict.best,y=SalePrice))+\n",
    "  geom_point(size=1 , color = \"steelblue\")+\n",
    "  geom_smooth(method = \"loess\", color=\"darkred\")+\n",
    "  labs(x=\"Predicted\", y=\"Actual\")+\n",
    "  theme(plot.margin = unit(c(2,2,2,2), \"cm\"))"
   ]
  },
  {
   "cell_type": "markdown",
   "execution_count": null,
   "metadata": {
    "_uuid": "e5313ae61a8ce647d68482dcc57b3e95a571a1bc"
   },
   "source": [
    "<h1>5. Submission file"
   ]
  },
  {
   "cell_type": "code",
   "execution_count": 14,
   "metadata": {
    "_uuid": "a0b228ade9cf8a263e814faf10645fb6cf1ebba7"
   },
   "outputs": [
    {
     "data": {
      "text/html": [
       "<table>\n",
       "<caption>A data.frame: 6 × 2</caption>\n",
       "<thead>\n",
       "\t<tr><th scope=col>Id</th><th scope=col>SalePrice</th></tr>\n",
       "\t<tr><th scope=col>&lt;int&gt;</th><th scope=col>&lt;dbl&gt;</th></tr>\n",
       "</thead>\n",
       "<tbody>\n",
       "\t<tr><td>1461</td><td>129231.7</td></tr>\n",
       "\t<tr><td>1462</td><td>158554.7</td></tr>\n",
       "\t<tr><td>1463</td><td>185096.3</td></tr>\n",
       "\t<tr><td>1464</td><td>187120.2</td></tr>\n",
       "\t<tr><td>1465</td><td>193797.5</td></tr>\n",
       "\t<tr><td>1466</td><td>174210.8</td></tr>\n",
       "</tbody>\n",
       "</table>\n"
      ],
      "text/latex": [
       "A data.frame: 6 × 2\n",
       "\\begin{tabular}{r|ll}\n",
       " Id & SalePrice\\\\\n",
       " <int> & <dbl>\\\\\n",
       "\\hline\n",
       "\t 1461 & 129231.7\\\\\n",
       "\t 1462 & 158554.7\\\\\n",
       "\t 1463 & 185096.3\\\\\n",
       "\t 1464 & 187120.2\\\\\n",
       "\t 1465 & 193797.5\\\\\n",
       "\t 1466 & 174210.8\\\\\n",
       "\\end{tabular}\n"
      ],
      "text/markdown": [
       "\n",
       "A data.frame: 6 × 2\n",
       "\n",
       "| Id &lt;int&gt; | SalePrice &lt;dbl&gt; |\n",
       "|---|---|\n",
       "| 1461 | 129231.7 |\n",
       "| 1462 | 158554.7 |\n",
       "| 1463 | 185096.3 |\n",
       "| 1464 | 187120.2 |\n",
       "| 1465 | 193797.5 |\n",
       "| 1466 | 174210.8 |\n",
       "\n"
      ],
      "text/plain": [
       "  Id   SalePrice\n",
       "1 1461 129231.7 \n",
       "2 1462 158554.7 \n",
       "3 1463 185096.3 \n",
       "4 1464 187120.2 \n",
       "5 1465 193797.5 \n",
       "6 1466 174210.8 "
      ]
     },
     "metadata": {},
     "output_type": "display_data"
    }
   ],
   "source": [
    "#Predict\n",
    "predict.Test <- predict(model.best,df.test)\n",
    "\n",
    "#Join ID and Predict(SalePrice)\n",
    "df.kaggle.submit <-cbind(df.test[\"Id\"],predict.Test)\n",
    "colnames(df.kaggle.submit) <- c(\"Id\", \"SalePrice\")\n",
    "\n",
    "head(df.kaggle.submit)\n",
    "\n",
    "#Submission File\n",
    "write.csv(df.kaggle.submit, file = 'submission.csv', row.names=FALSE)"
   ]
  }
 ],
 "metadata": {
  "kernelspec": {
   "display_name": "R",
   "language": "R",
   "name": "ir"
  },
  "language_info": {
   "codemirror_mode": "r",
   "file_extension": ".r",
   "mimetype": "text/x-r-source",
   "name": "R",
   "pygments_lexer": "r",
   "version": "3.6.0"
  }
 },
 "nbformat": 4,
 "nbformat_minor": 4
}
